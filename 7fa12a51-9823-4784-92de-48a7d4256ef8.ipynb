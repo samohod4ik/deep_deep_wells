{
 "cells": [
  {
   "cell_type": "markdown",
   "metadata": {},
   "source": [
    "Привет, меня зовут Артем. Сегодня я проверю твой проект.\n",
    "<br> Дальнейшее общение будет происходить на \"ты\" если это не вызывает никаких проблем.\n",
    "<br> Желательно реагировать на каждый мой комментарий ('исправил', 'не понятно как исправить ошибку', ...)\n",
    "<br> Пожалуйста, не удаляй комментарии ревьюера, так как они повышают качество повторного ревью.\n",
    "\n",
    "Комментарии будут в <font color='green'>зеленой</font>, <font color='blue'>синей</font> или <font color='red'>красной</font> рамках:\n",
    "\n",
    "<div class=\"alert alert-block alert-success\">\n",
    "<b>Успех:</b> Если все сделано отлично\n",
    "</div>\n",
    "\n",
    "<div class=\"alert alert-block alert-info\">\n",
    "<b>Совет: </b> Если можно немного улучшить\n",
    "</div>\n",
    "\n",
    "<div class=\"alert alert-block alert-danger\">\n",
    "<b>Ошибка:</b> Если требуются исправления. Работа не может быть принята с красными комментариями.\n",
    "</div>\n",
    "\n",
    "-------------------\n",
    "\n",
    "Будет очень хорошо, если ты будешь помечать свои действия следующим образом:\n",
    "<div class=\"alert alert-block alert-warning\">\n",
    "<b>Комментарий студента:</b> ...\n",
    "</div>\n",
    "\n",
    "<div class=\"alert alert-block alert-warning\">\n",
    "<b>Изменения:</b> Были внесены следующие изменения ...\n",
    "</div>\n",
    "\n",
    "### <font color='orange'>Общее впечатление</font>\n",
    "* Большое спасибо за проделанную работу. Видно, что приложено много усилий.\n",
    "* Выводы и рассуждения получились содержательными, их было интересно читать.\n",
    "* Над этим проектом нужно будет еще немного поработать. Однако, изменения не должны занять много времени.\n",
    "* В работе я оставил несколько советов. Буду рад, если ты учтешь их.\n",
    "* С радостью отвечу на твои вопросы, если они есть. Лучше всего их собрать в следующей ячейке. Жду новую версию проекта.\n",
    "\n",
    "<div class=\"alert alert-block alert-warning\", padding: 15px\">\n",
    "<strong>Комментарий студента:</strong>\n",
    "    Привет! Меня зовут Александр, приятно познакомиться! Буду рад улучшить свою работу с твоей помощью.\n",
    "</div>"
   ]
  },
  {
   "cell_type": "markdown",
   "metadata": {},
   "source": [
    "### <font color='orange'>Общее впечатление (ревью 2)</font>\n",
    "* После исправлений проект улучшился и теперь он может быть зачтен.\n",
    "* Для удобства все новые комментарии обозначены фразой \"ревью 2\".\n",
    "* Удачи в дальнейшем обучении и следующих работах!"
   ]
  },
  {
   "cell_type": "markdown",
   "metadata": {},
   "source": [
    "# Выбор локации для скважины"
   ]
  },
  {
   "cell_type": "markdown",
   "metadata": {},
   "source": [
    "Допустим, вы работаете в добывающей компании «ГлавРосГосНефть». Нужно решить, где бурить новую скважину.\n",
    "\n",
    "Вам предоставлены пробы нефти в трёх регионах: в каждом 10 000 месторождений, где измерили качество нефти и объём её запасов. Постройте модель машинного обучения, которая поможет определить регион, где добыча принесёт наибольшую прибыль. Проанализируйте возможную прибыль и риски техникой *Bootstrap.*\n",
    "\n",
    "Шаги для выбора локации:\n",
    "\n",
    "- В избранном регионе ищут месторождения, для каждого определяют значения признаков;\n",
    "- Строят модель и оценивают объём запасов;\n",
    "- Выбирают месторождения с самым высокими оценками значений. Количество месторождений зависит от бюджета компании и стоимости разработки одной скважины;\n",
    "- Прибыль равна суммарной прибыли отобранных месторождений."
   ]
  },
  {
   "cell_type": "markdown",
   "metadata": {},
   "source": [
    "## Загрузка и подготовка данных"
   ]
  },
  {
   "cell_type": "markdown",
   "metadata": {},
   "source": [
    "Для добывающей компании требуется обучить модель для выбора локации бурения скважины.\n",
    "Для этого будут исследованы 3 различных региона добычи, для каждого была обучены наборы моделей.\n",
    "Перед исследованием требуется провести работу над входными данными - разделение на выборки и последующая нормализация.\n",
    "Затем нужно построить модели для предсказания объёма запасов в новых скважинах и на этих предсказаниях отобрать скважины с самыми высокими оценками значений.\n",
    "В конце концов оставим лишь те регионы, в которых вероятность убытков меньше 2.5%. Среди них выбирают регион с наибольшей средней прибылью."
   ]
  },
  {
   "cell_type": "markdown",
   "metadata": {},
   "source": [
    "### Загрузка данных"
   ]
  },
  {
   "cell_type": "markdown",
   "metadata": {},
   "source": [
    "Чтобы подготовить модели оценки объёма запасов нефти в скважине необходимо изучить и переработать данные.\n",
    "Для реализации модели линейной регрессии необходимо нормализовать данные, чтобы большие значения не перекрывали малые."
   ]
  },
  {
   "cell_type": "code",
   "execution_count": 69,
   "metadata": {},
   "outputs": [],
   "source": [
    "import numpy as np\n",
    "import pandas as pd\n",
    "import pylab as pl\n",
    "import warnings\n",
    "import matplotlib.pyplot as plt\n",
    "\n",
    "from tqdm import tqdm\n",
    "\n",
    "from scipy import stats as st\n",
    "\n",
    "from sklearn.ensemble import RandomForestRegressor\n",
    "from sklearn.exceptions import DataConversionWarning\n",
    "from sklearn.linear_model import LinearRegression\n",
    "from sklearn.metrics import mean_squared_error\n",
    "from sklearn.model_selection import train_test_split\n",
    "from sklearn.preprocessing import StandardScaler"
   ]
  },
  {
   "cell_type": "markdown",
   "metadata": {},
   "source": [
    "<div class=\"alert alert-block alert-success\">\n",
    "<b>Успех:</b> Отлично, что все импорты собраны в первой ячейке ноутбука! Если у того, кто будет запускать твой ноутбук будут отсутствовать некоторые библиотеки, то он это увидит сразу, а не в процессе!\n",
    "</div>"
   ]
  },
  {
   "cell_type": "code",
   "execution_count": 70,
   "metadata": {},
   "outputs": [],
   "source": [
    "warnings.filterwarnings(action='ignore', category=DataConversionWarning)"
   ]
  },
  {
   "cell_type": "code",
   "execution_count": 71,
   "metadata": {},
   "outputs": [],
   "source": [
    "try:\n",
    "    df0 = pd.read_csv('/datasets/geo_data_0.csv')\n",
    "    df1 = pd.read_csv('/datasets/geo_data_1.csv')\n",
    "    df2 = pd.read_csv('/datasets/geo_data_2.csv')\n",
    "except Exception as info:\n",
    "    display(info)\n",
    "    df0 = pd.read_csv('https://code.s3.yandex.net/datasets/geo_data_0.csv')\n",
    "    df1 = pd.read_csv('https://code.s3.yandex.net/datasets/geo_data_1.csv')\n",
    "    df2 = pd.read_csv('https://code.s3.yandex.net/datasets/geo_data_2.csv')"
   ]
  },
  {
   "cell_type": "code",
   "execution_count": 72,
   "metadata": {},
   "outputs": [],
   "source": [
    "def describe_dataframe(dataframe):\n",
    "    display(dataframe.head(10))\n",
    "    display(dataframe.info())\n",
    "    display(dataframe.describe(percentiles=[.5]).T)\n",
    "    print(f\"Количество дублированных строк: {dataframe.duplicated().sum()}\")"
   ]
  },
  {
   "cell_type": "markdown",
   "metadata": {},
   "source": [
    "### Первый датафрейм."
   ]
  },
  {
   "cell_type": "code",
   "execution_count": 73,
   "metadata": {},
   "outputs": [
    {
     "data": {
      "text/html": [
       "<div>\n",
       "<style scoped>\n",
       "    .dataframe tbody tr th:only-of-type {\n",
       "        vertical-align: middle;\n",
       "    }\n",
       "\n",
       "    .dataframe tbody tr th {\n",
       "        vertical-align: top;\n",
       "    }\n",
       "\n",
       "    .dataframe thead th {\n",
       "        text-align: right;\n",
       "    }\n",
       "</style>\n",
       "<table border=\"1\" class=\"dataframe\">\n",
       "  <thead>\n",
       "    <tr style=\"text-align: right;\">\n",
       "      <th></th>\n",
       "      <th>id</th>\n",
       "      <th>f0</th>\n",
       "      <th>f1</th>\n",
       "      <th>f2</th>\n",
       "      <th>product</th>\n",
       "    </tr>\n",
       "  </thead>\n",
       "  <tbody>\n",
       "    <tr>\n",
       "      <th>0</th>\n",
       "      <td>txEyH</td>\n",
       "      <td>0.705745</td>\n",
       "      <td>-0.497823</td>\n",
       "      <td>1.221170</td>\n",
       "      <td>105.280062</td>\n",
       "    </tr>\n",
       "    <tr>\n",
       "      <th>1</th>\n",
       "      <td>2acmU</td>\n",
       "      <td>1.334711</td>\n",
       "      <td>-0.340164</td>\n",
       "      <td>4.365080</td>\n",
       "      <td>73.037750</td>\n",
       "    </tr>\n",
       "    <tr>\n",
       "      <th>2</th>\n",
       "      <td>409Wp</td>\n",
       "      <td>1.022732</td>\n",
       "      <td>0.151990</td>\n",
       "      <td>1.419926</td>\n",
       "      <td>85.265647</td>\n",
       "    </tr>\n",
       "    <tr>\n",
       "      <th>3</th>\n",
       "      <td>iJLyR</td>\n",
       "      <td>-0.032172</td>\n",
       "      <td>0.139033</td>\n",
       "      <td>2.978566</td>\n",
       "      <td>168.620776</td>\n",
       "    </tr>\n",
       "    <tr>\n",
       "      <th>4</th>\n",
       "      <td>Xdl7t</td>\n",
       "      <td>1.988431</td>\n",
       "      <td>0.155413</td>\n",
       "      <td>4.751769</td>\n",
       "      <td>154.036647</td>\n",
       "    </tr>\n",
       "    <tr>\n",
       "      <th>5</th>\n",
       "      <td>wX4Hy</td>\n",
       "      <td>0.969570</td>\n",
       "      <td>0.489775</td>\n",
       "      <td>-0.735383</td>\n",
       "      <td>64.741541</td>\n",
       "    </tr>\n",
       "    <tr>\n",
       "      <th>6</th>\n",
       "      <td>tL6pL</td>\n",
       "      <td>0.645075</td>\n",
       "      <td>0.530656</td>\n",
       "      <td>1.780266</td>\n",
       "      <td>49.055285</td>\n",
       "    </tr>\n",
       "    <tr>\n",
       "      <th>7</th>\n",
       "      <td>BYPU6</td>\n",
       "      <td>-0.400648</td>\n",
       "      <td>0.808337</td>\n",
       "      <td>-5.624670</td>\n",
       "      <td>72.943292</td>\n",
       "    </tr>\n",
       "    <tr>\n",
       "      <th>8</th>\n",
       "      <td>j9Oui</td>\n",
       "      <td>0.643105</td>\n",
       "      <td>-0.551583</td>\n",
       "      <td>2.372141</td>\n",
       "      <td>113.356160</td>\n",
       "    </tr>\n",
       "    <tr>\n",
       "      <th>9</th>\n",
       "      <td>OLuZU</td>\n",
       "      <td>2.173381</td>\n",
       "      <td>0.563698</td>\n",
       "      <td>9.441852</td>\n",
       "      <td>127.910945</td>\n",
       "    </tr>\n",
       "  </tbody>\n",
       "</table>\n",
       "</div>"
      ],
      "text/plain": [
       "      id        f0        f1        f2     product\n",
       "0  txEyH  0.705745 -0.497823  1.221170  105.280062\n",
       "1  2acmU  1.334711 -0.340164  4.365080   73.037750\n",
       "2  409Wp  1.022732  0.151990  1.419926   85.265647\n",
       "3  iJLyR -0.032172  0.139033  2.978566  168.620776\n",
       "4  Xdl7t  1.988431  0.155413  4.751769  154.036647\n",
       "5  wX4Hy  0.969570  0.489775 -0.735383   64.741541\n",
       "6  tL6pL  0.645075  0.530656  1.780266   49.055285\n",
       "7  BYPU6 -0.400648  0.808337 -5.624670   72.943292\n",
       "8  j9Oui  0.643105 -0.551583  2.372141  113.356160\n",
       "9  OLuZU  2.173381  0.563698  9.441852  127.910945"
      ]
     },
     "metadata": {},
     "output_type": "display_data"
    },
    {
     "name": "stdout",
     "output_type": "stream",
     "text": [
      "<class 'pandas.core.frame.DataFrame'>\n",
      "RangeIndex: 100000 entries, 0 to 99999\n",
      "Data columns (total 5 columns):\n",
      " #   Column   Non-Null Count   Dtype  \n",
      "---  ------   --------------   -----  \n",
      " 0   id       100000 non-null  object \n",
      " 1   f0       100000 non-null  float64\n",
      " 2   f1       100000 non-null  float64\n",
      " 3   f2       100000 non-null  float64\n",
      " 4   product  100000 non-null  float64\n",
      "dtypes: float64(4), object(1)\n",
      "memory usage: 3.8+ MB\n"
     ]
    },
    {
     "data": {
      "text/plain": [
       "None"
      ]
     },
     "metadata": {},
     "output_type": "display_data"
    },
    {
     "data": {
      "text/html": [
       "<div>\n",
       "<style scoped>\n",
       "    .dataframe tbody tr th:only-of-type {\n",
       "        vertical-align: middle;\n",
       "    }\n",
       "\n",
       "    .dataframe tbody tr th {\n",
       "        vertical-align: top;\n",
       "    }\n",
       "\n",
       "    .dataframe thead th {\n",
       "        text-align: right;\n",
       "    }\n",
       "</style>\n",
       "<table border=\"1\" class=\"dataframe\">\n",
       "  <thead>\n",
       "    <tr style=\"text-align: right;\">\n",
       "      <th></th>\n",
       "      <th>count</th>\n",
       "      <th>mean</th>\n",
       "      <th>std</th>\n",
       "      <th>min</th>\n",
       "      <th>50%</th>\n",
       "      <th>max</th>\n",
       "    </tr>\n",
       "  </thead>\n",
       "  <tbody>\n",
       "    <tr>\n",
       "      <th>f0</th>\n",
       "      <td>100000.0</td>\n",
       "      <td>0.500419</td>\n",
       "      <td>0.871832</td>\n",
       "      <td>-1.408605</td>\n",
       "      <td>0.502360</td>\n",
       "      <td>2.362331</td>\n",
       "    </tr>\n",
       "    <tr>\n",
       "      <th>f1</th>\n",
       "      <td>100000.0</td>\n",
       "      <td>0.250143</td>\n",
       "      <td>0.504433</td>\n",
       "      <td>-0.848218</td>\n",
       "      <td>0.250252</td>\n",
       "      <td>1.343769</td>\n",
       "    </tr>\n",
       "    <tr>\n",
       "      <th>f2</th>\n",
       "      <td>100000.0</td>\n",
       "      <td>2.502647</td>\n",
       "      <td>3.248248</td>\n",
       "      <td>-12.088328</td>\n",
       "      <td>2.515969</td>\n",
       "      <td>16.003790</td>\n",
       "    </tr>\n",
       "    <tr>\n",
       "      <th>product</th>\n",
       "      <td>100000.0</td>\n",
       "      <td>92.500000</td>\n",
       "      <td>44.288691</td>\n",
       "      <td>0.000000</td>\n",
       "      <td>91.849972</td>\n",
       "      <td>185.364347</td>\n",
       "    </tr>\n",
       "  </tbody>\n",
       "</table>\n",
       "</div>"
      ],
      "text/plain": [
       "            count       mean        std        min        50%         max\n",
       "f0       100000.0   0.500419   0.871832  -1.408605   0.502360    2.362331\n",
       "f1       100000.0   0.250143   0.504433  -0.848218   0.250252    1.343769\n",
       "f2       100000.0   2.502647   3.248248 -12.088328   2.515969   16.003790\n",
       "product  100000.0  92.500000  44.288691   0.000000  91.849972  185.364347"
      ]
     },
     "metadata": {},
     "output_type": "display_data"
    },
    {
     "name": "stdout",
     "output_type": "stream",
     "text": [
      "Количество дублированных строк: 0\n"
     ]
    }
   ],
   "source": [
    "describe_dataframe(df0)"
   ]
  },
  {
   "cell_type": "markdown",
   "metadata": {},
   "source": [
    "Для дальнейшей работы необходимо будет перенести категориальное значение id в index датафрейма, т.к. это и есть индекс скважины, отдельное числовое представление индекса излишне."
   ]
  },
  {
   "cell_type": "code",
   "execution_count": 74,
   "metadata": {},
   "outputs": [],
   "source": [
    "features_0 = df0[[\"f0\", \"f1\", \"f2\"]]\n",
    "features_0.index = df0['id']\n",
    "target_0 = df0['product']\n",
    "target_0.index = df0['id']"
   ]
  },
  {
   "cell_type": "markdown",
   "metadata": {},
   "source": [
    "Разделим данные на валидационную и тестовую выборки."
   ]
  },
  {
   "cell_type": "code",
   "execution_count": 75,
   "metadata": {},
   "outputs": [
    {
     "data": {
      "text/plain": [
       "Text(0, 0.5, 'Количество скважин')"
      ]
     },
     "execution_count": 75,
     "metadata": {},
     "output_type": "execute_result"
    },
    {
     "data": {
      "image/png": "[encoded data removed]",
      "text/plain": [
       "<Figure size 864x432 with 1 Axes>"
      ]
     },
     "metadata": {
      "needs_background": "light"
     },
     "output_type": "display_data"
    }
   ],
   "source": [
    "features_train_0, features_valid_0, target_train_0, target_valid_0 = train_test_split(\n",
    "    features_0, target_0, test_size=.25, random_state=32123)\n",
    "fig = plt.figure(figsize = (12, 6))\n",
    "ax = fig.gca()\n",
    "hist0 = target_train_0.hist(\n",
    "    bins=18,\n",
    "    legend=True,\n",
    ")\n",
    "pl.suptitle(\"Распределение запасов нефти первого региона\")\n",
    "hist0.set_xlabel(\"Объём нефти\")\n",
    "hist0.set_ylabel(\"Количество скважин\")"
   ]
  },
  {
   "cell_type": "markdown",
   "metadata": {},
   "source": [
    "<div class=\"alert alert-block alert-warning\">\n",
    "<b>Изменения:</b> Изменён масштаб графика, добавлены подписи осей и название.\n",
    "</div>"
   ]
  },
  {
   "cell_type": "markdown",
   "metadata": {},
   "source": [
    "<div class=\"alert alert-block alert-success\">\n",
    "<b>Успех (ревью 2):</b> Спасибо!\n",
    "</div>"
   ]
  },
  {
   "cell_type": "markdown",
   "metadata": {},
   "source": [
    "Объёмы нефти в скважинах первого региона распределены нормально."
   ]
  },
  {
   "cell_type": "code",
   "execution_count": 76,
   "metadata": {},
   "outputs": [
    {
     "data": {
      "text/plain": [
       "'Среднее значение запаса нефти в скважине:  92.5 тыс. баррелей'"
      ]
     },
     "execution_count": 76,
     "metadata": {},
     "output_type": "execute_result"
    }
   ],
   "source": [
    "f\"Среднее значение запаса нефти в скважине: {target_train_0.mean(): .3} тыс. баррелей\""
   ]
  },
  {
   "cell_type": "markdown",
   "metadata": {},
   "source": [
    "Нормализуем данные для более точного подбора параметров моделей."
   ]
  },
  {
   "cell_type": "code",
   "execution_count": 77,
   "metadata": {},
   "outputs": [
    {
     "data": {
      "text/html": [
       "<div>\n",
       "<style scoped>\n",
       "    .dataframe tbody tr th:only-of-type {\n",
       "        vertical-align: middle;\n",
       "    }\n",
       "\n",
       "    .dataframe tbody tr th {\n",
       "        vertical-align: top;\n",
       "    }\n",
       "\n",
       "    .dataframe thead th {\n",
       "        text-align: right;\n",
       "    }\n",
       "</style>\n",
       "<table border=\"1\" class=\"dataframe\">\n",
       "  <thead>\n",
       "    <tr style=\"text-align: right;\">\n",
       "      <th></th>\n",
       "      <th>f0</th>\n",
       "      <th>f1</th>\n",
       "      <th>f2</th>\n",
       "    </tr>\n",
       "    <tr>\n",
       "      <th>id</th>\n",
       "      <th></th>\n",
       "      <th></th>\n",
       "      <th></th>\n",
       "    </tr>\n",
       "  </thead>\n",
       "  <tbody>\n",
       "    <tr>\n",
       "      <th>y02ny</th>\n",
       "      <td>-1.146059</td>\n",
       "      <td>1.251477</td>\n",
       "      <td>-0.212471</td>\n",
       "    </tr>\n",
       "    <tr>\n",
       "      <th>y1cQO</th>\n",
       "      <td>0.319854</td>\n",
       "      <td>0.572784</td>\n",
       "      <td>-0.872745</td>\n",
       "    </tr>\n",
       "    <tr>\n",
       "      <th>xu1gI</th>\n",
       "      <td>0.937027</td>\n",
       "      <td>-1.207503</td>\n",
       "      <td>-0.878044</td>\n",
       "    </tr>\n",
       "    <tr>\n",
       "      <th>33mI5</th>\n",
       "      <td>-0.564041</td>\n",
       "      <td>-0.027369</td>\n",
       "      <td>0.106684</td>\n",
       "    </tr>\n",
       "    <tr>\n",
       "      <th>u8EYd</th>\n",
       "      <td>-0.602662</td>\n",
       "      <td>1.576371</td>\n",
       "      <td>0.247156</td>\n",
       "    </tr>\n",
       "    <tr>\n",
       "      <th>1Uatn</th>\n",
       "      <td>1.191606</td>\n",
       "      <td>-1.117558</td>\n",
       "      <td>0.996478</td>\n",
       "    </tr>\n",
       "    <tr>\n",
       "      <th>fD1V9</th>\n",
       "      <td>0.519331</td>\n",
       "      <td>0.221111</td>\n",
       "      <td>-0.264934</td>\n",
       "    </tr>\n",
       "    <tr>\n",
       "      <th>pEj03</th>\n",
       "      <td>-0.575704</td>\n",
       "      <td>-0.500024</td>\n",
       "      <td>-0.298915</td>\n",
       "    </tr>\n",
       "    <tr>\n",
       "      <th>2ocEN</th>\n",
       "      <td>1.015977</td>\n",
       "      <td>-0.953444</td>\n",
       "      <td>-0.577819</td>\n",
       "    </tr>\n",
       "    <tr>\n",
       "      <th>EdPD0</th>\n",
       "      <td>-0.579474</td>\n",
       "      <td>0.628254</td>\n",
       "      <td>-1.207404</td>\n",
       "    </tr>\n",
       "  </tbody>\n",
       "</table>\n",
       "</div>"
      ],
      "text/plain": [
       "             f0        f1        f2\n",
       "id                                 \n",
       "y02ny -1.146059  1.251477 -0.212471\n",
       "y1cQO  0.319854  0.572784 -0.872745\n",
       "xu1gI  0.937027 -1.207503 -0.878044\n",
       "33mI5 -0.564041 -0.027369  0.106684\n",
       "u8EYd -0.602662  1.576371  0.247156\n",
       "1Uatn  1.191606 -1.117558  0.996478\n",
       "fD1V9  0.519331  0.221111 -0.264934\n",
       "pEj03 -0.575704 -0.500024 -0.298915\n",
       "2ocEN  1.015977 -0.953444 -0.577819\n",
       "EdPD0 -0.579474  0.628254 -1.207404"
      ]
     },
     "metadata": {},
     "output_type": "display_data"
    },
    {
     "name": "stdout",
     "output_type": "stream",
     "text": [
      "<class 'pandas.core.frame.DataFrame'>\n",
      "Index: 75000 entries, y02ny to rmNUx\n",
      "Data columns (total 3 columns):\n",
      " #   Column  Non-Null Count  Dtype  \n",
      "---  ------  --------------  -----  \n",
      " 0   f0      75000 non-null  float64\n",
      " 1   f1      75000 non-null  float64\n",
      " 2   f2      75000 non-null  float64\n",
      "dtypes: float64(3)\n",
      "memory usage: 2.3+ MB\n"
     ]
    },
    {
     "data": {
      "text/plain": [
       "None"
      ]
     },
     "metadata": {},
     "output_type": "display_data"
    },
    {
     "data": {
      "text/html": [
       "<div>\n",
       "<style scoped>\n",
       "    .dataframe tbody tr th:only-of-type {\n",
       "        vertical-align: middle;\n",
       "    }\n",
       "\n",
       "    .dataframe tbody tr th {\n",
       "        vertical-align: top;\n",
       "    }\n",
       "\n",
       "    .dataframe thead th {\n",
       "        text-align: right;\n",
       "    }\n",
       "</style>\n",
       "<table border=\"1\" class=\"dataframe\">\n",
       "  <thead>\n",
       "    <tr style=\"text-align: right;\">\n",
       "      <th></th>\n",
       "      <th>count</th>\n",
       "      <th>mean</th>\n",
       "      <th>std</th>\n",
       "      <th>min</th>\n",
       "      <th>50%</th>\n",
       "      <th>max</th>\n",
       "    </tr>\n",
       "  </thead>\n",
       "  <tbody>\n",
       "    <tr>\n",
       "      <th>f0</th>\n",
       "      <td>75000.0</td>\n",
       "      <td>-1.293188e-17</td>\n",
       "      <td>1.000007</td>\n",
       "      <td>-2.189475</td>\n",
       "      <td>0.001634</td>\n",
       "      <td>2.139736</td>\n",
       "    </tr>\n",
       "    <tr>\n",
       "      <th>f1</th>\n",
       "      <td>75000.0</td>\n",
       "      <td>-1.200107e-16</td>\n",
       "      <td>1.000007</td>\n",
       "      <td>-2.170048</td>\n",
       "      <td>-0.000597</td>\n",
       "      <td>2.147799</td>\n",
       "    </tr>\n",
       "    <tr>\n",
       "      <th>f2</th>\n",
       "      <td>75000.0</td>\n",
       "      <td>-9.350742e-17</td>\n",
       "      <td>1.000007</td>\n",
       "      <td>-4.501229</td>\n",
       "      <td>0.003254</td>\n",
       "      <td>3.985619</td>\n",
       "    </tr>\n",
       "  </tbody>\n",
       "</table>\n",
       "</div>"
      ],
      "text/plain": [
       "      count          mean       std       min       50%       max\n",
       "f0  75000.0 -1.293188e-17  1.000007 -2.189475  0.001634  2.139736\n",
       "f1  75000.0 -1.200107e-16  1.000007 -2.170048 -0.000597  2.147799\n",
       "f2  75000.0 -9.350742e-17  1.000007 -4.501229  0.003254  3.985619"
      ]
     },
     "metadata": {},
     "output_type": "display_data"
    },
    {
     "name": "stdout",
     "output_type": "stream",
     "text": [
      "Количество дублированных строк: 0\n"
     ]
    }
   ],
   "source": [
    "scaler = StandardScaler()\n",
    "scaler.fit(features_train_0)\n",
    "features_train_0 = pd.DataFrame(\n",
    "    scaler.transform(features_train_0),\n",
    "    columns=features_train_0.columns,\n",
    "    index=features_train_0.index)\n",
    "features_valid_0 = pd.DataFrame(\n",
    "    scaler.transform(features_valid_0),\n",
    "    columns=features_valid_0.columns,\n",
    "    index=features_valid_0.index)\n",
    "\n",
    "describe_dataframe(features_train_0)"
   ]
  },
  {
   "cell_type": "markdown",
   "metadata": {},
   "source": [
    "Повторим процедуру для двух других датафреймов."
   ]
  },
  {
   "cell_type": "markdown",
   "metadata": {},
   "source": [
    "### Второй датафрейм"
   ]
  },
  {
   "cell_type": "code",
   "execution_count": 78,
   "metadata": {},
   "outputs": [
    {
     "data": {
      "text/html": [
       "<div>\n",
       "<style scoped>\n",
       "    .dataframe tbody tr th:only-of-type {\n",
       "        vertical-align: middle;\n",
       "    }\n",
       "\n",
       "    .dataframe tbody tr th {\n",
       "        vertical-align: top;\n",
       "    }\n",
       "\n",
       "    .dataframe thead th {\n",
       "        text-align: right;\n",
       "    }\n",
       "</style>\n",
       "<table border=\"1\" class=\"dataframe\">\n",
       "  <thead>\n",
       "    <tr style=\"text-align: right;\">\n",
       "      <th></th>\n",
       "      <th>id</th>\n",
       "      <th>f0</th>\n",
       "      <th>f1</th>\n",
       "      <th>f2</th>\n",
       "      <th>product</th>\n",
       "    </tr>\n",
       "  </thead>\n",
       "  <tbody>\n",
       "    <tr>\n",
       "      <th>0</th>\n",
       "      <td>kBEdx</td>\n",
       "      <td>-15.001348</td>\n",
       "      <td>-8.276000</td>\n",
       "      <td>-0.005876</td>\n",
       "      <td>3.179103</td>\n",
       "    </tr>\n",
       "    <tr>\n",
       "      <th>1</th>\n",
       "      <td>62mP7</td>\n",
       "      <td>14.272088</td>\n",
       "      <td>-3.475083</td>\n",
       "      <td>0.999183</td>\n",
       "      <td>26.953261</td>\n",
       "    </tr>\n",
       "    <tr>\n",
       "      <th>2</th>\n",
       "      <td>vyE1P</td>\n",
       "      <td>6.263187</td>\n",
       "      <td>-5.948386</td>\n",
       "      <td>5.001160</td>\n",
       "      <td>134.766305</td>\n",
       "    </tr>\n",
       "    <tr>\n",
       "      <th>3</th>\n",
       "      <td>KcrkZ</td>\n",
       "      <td>-13.081196</td>\n",
       "      <td>-11.506057</td>\n",
       "      <td>4.999415</td>\n",
       "      <td>137.945408</td>\n",
       "    </tr>\n",
       "    <tr>\n",
       "      <th>4</th>\n",
       "      <td>AHL4O</td>\n",
       "      <td>12.702195</td>\n",
       "      <td>-8.147433</td>\n",
       "      <td>5.004363</td>\n",
       "      <td>134.766305</td>\n",
       "    </tr>\n",
       "    <tr>\n",
       "      <th>5</th>\n",
       "      <td>HHckp</td>\n",
       "      <td>-3.327590</td>\n",
       "      <td>-2.205276</td>\n",
       "      <td>3.003647</td>\n",
       "      <td>84.038886</td>\n",
       "    </tr>\n",
       "    <tr>\n",
       "      <th>6</th>\n",
       "      <td>h5Ujo</td>\n",
       "      <td>-11.142655</td>\n",
       "      <td>-10.133399</td>\n",
       "      <td>4.002382</td>\n",
       "      <td>110.992147</td>\n",
       "    </tr>\n",
       "    <tr>\n",
       "      <th>7</th>\n",
       "      <td>muH9x</td>\n",
       "      <td>4.234715</td>\n",
       "      <td>-0.001354</td>\n",
       "      <td>2.004588</td>\n",
       "      <td>53.906522</td>\n",
       "    </tr>\n",
       "    <tr>\n",
       "      <th>8</th>\n",
       "      <td>YiRkx</td>\n",
       "      <td>13.355129</td>\n",
       "      <td>-0.332068</td>\n",
       "      <td>4.998647</td>\n",
       "      <td>134.766305</td>\n",
       "    </tr>\n",
       "    <tr>\n",
       "      <th>9</th>\n",
       "      <td>jG6Gi</td>\n",
       "      <td>1.069227</td>\n",
       "      <td>-11.025667</td>\n",
       "      <td>4.997844</td>\n",
       "      <td>137.945408</td>\n",
       "    </tr>\n",
       "  </tbody>\n",
       "</table>\n",
       "</div>"
      ],
      "text/plain": [
       "      id         f0         f1        f2     product\n",
       "0  kBEdx -15.001348  -8.276000 -0.005876    3.179103\n",
       "1  62mP7  14.272088  -3.475083  0.999183   26.953261\n",
       "2  vyE1P   6.263187  -5.948386  5.001160  134.766305\n",
       "3  KcrkZ -13.081196 -11.506057  4.999415  137.945408\n",
       "4  AHL4O  12.702195  -8.147433  5.004363  134.766305\n",
       "5  HHckp  -3.327590  -2.205276  3.003647   84.038886\n",
       "6  h5Ujo -11.142655 -10.133399  4.002382  110.992147\n",
       "7  muH9x   4.234715  -0.001354  2.004588   53.906522\n",
       "8  YiRkx  13.355129  -0.332068  4.998647  134.766305\n",
       "9  jG6Gi   1.069227 -11.025667  4.997844  137.945408"
      ]
     },
     "metadata": {},
     "output_type": "display_data"
    },
    {
     "name": "stdout",
     "output_type": "stream",
     "text": [
      "<class 'pandas.core.frame.DataFrame'>\n",
      "RangeIndex: 100000 entries, 0 to 99999\n",
      "Data columns (total 5 columns):\n",
      " #   Column   Non-Null Count   Dtype  \n",
      "---  ------   --------------   -----  \n",
      " 0   id       100000 non-null  object \n",
      " 1   f0       100000 non-null  float64\n",
      " 2   f1       100000 non-null  float64\n",
      " 3   f2       100000 non-null  float64\n",
      " 4   product  100000 non-null  float64\n",
      "dtypes: float64(4), object(1)\n",
      "memory usage: 3.8+ MB\n"
     ]
    },
    {
     "data": {
      "text/plain": [
       "None"
      ]
     },
     "metadata": {},
     "output_type": "display_data"
    },
    {
     "data": {
      "text/html": [
       "<div>\n",
       "<style scoped>\n",
       "    .dataframe tbody tr th:only-of-type {\n",
       "        vertical-align: middle;\n",
       "    }\n",
       "\n",
       "    .dataframe tbody tr th {\n",
       "        vertical-align: top;\n",
       "    }\n",
       "\n",
       "    .dataframe thead th {\n",
       "        text-align: right;\n",
       "    }\n",
       "</style>\n",
       "<table border=\"1\" class=\"dataframe\">\n",
       "  <thead>\n",
       "    <tr style=\"text-align: right;\">\n",
       "      <th></th>\n",
       "      <th>count</th>\n",
       "      <th>mean</th>\n",
       "      <th>std</th>\n",
       "      <th>min</th>\n",
       "      <th>50%</th>\n",
       "      <th>max</th>\n",
       "    </tr>\n",
       "  </thead>\n",
       "  <tbody>\n",
       "    <tr>\n",
       "      <th>f0</th>\n",
       "      <td>100000.0</td>\n",
       "      <td>1.141296</td>\n",
       "      <td>8.965932</td>\n",
       "      <td>-31.609576</td>\n",
       "      <td>1.153055</td>\n",
       "      <td>29.421755</td>\n",
       "    </tr>\n",
       "    <tr>\n",
       "      <th>f1</th>\n",
       "      <td>100000.0</td>\n",
       "      <td>-4.796579</td>\n",
       "      <td>5.119872</td>\n",
       "      <td>-26.358598</td>\n",
       "      <td>-4.813172</td>\n",
       "      <td>18.734063</td>\n",
       "    </tr>\n",
       "    <tr>\n",
       "      <th>f2</th>\n",
       "      <td>100000.0</td>\n",
       "      <td>2.494541</td>\n",
       "      <td>1.703572</td>\n",
       "      <td>-0.018144</td>\n",
       "      <td>2.011479</td>\n",
       "      <td>5.019721</td>\n",
       "    </tr>\n",
       "    <tr>\n",
       "      <th>product</th>\n",
       "      <td>100000.0</td>\n",
       "      <td>68.825000</td>\n",
       "      <td>45.944423</td>\n",
       "      <td>0.000000</td>\n",
       "      <td>57.085625</td>\n",
       "      <td>137.945408</td>\n",
       "    </tr>\n",
       "  </tbody>\n",
       "</table>\n",
       "</div>"
      ],
      "text/plain": [
       "            count       mean        std        min        50%         max\n",
       "f0       100000.0   1.141296   8.965932 -31.609576   1.153055   29.421755\n",
       "f1       100000.0  -4.796579   5.119872 -26.358598  -4.813172   18.734063\n",
       "f2       100000.0   2.494541   1.703572  -0.018144   2.011479    5.019721\n",
       "product  100000.0  68.825000  45.944423   0.000000  57.085625  137.945408"
      ]
     },
     "metadata": {},
     "output_type": "display_data"
    },
    {
     "name": "stdout",
     "output_type": "stream",
     "text": [
      "Количество дублированных строк: 0\n"
     ]
    }
   ],
   "source": [
    "describe_dataframe(df1)"
   ]
  },
  {
   "cell_type": "code",
   "execution_count": 79,
   "metadata": {},
   "outputs": [],
   "source": [
    "features_1 = df1[[\"f0\", \"f1\", \"f2\"]]\n",
    "features_1.index = df1['id']\n",
    "target_1 = df1['product']\n",
    "target_1.index = df1['id']"
   ]
  },
  {
   "cell_type": "code",
   "execution_count": 80,
   "metadata": {},
   "outputs": [
    {
     "data": {
      "text/plain": [
       "Text(0, 0.5, 'Количество скважин')"
      ]
     },
     "execution_count": 80,
     "metadata": {},
     "output_type": "execute_result"
    },
    {
     "data": {
      "image/png": "[encoded data removed]",
      "text/plain": [
       "<Figure size 864x432 with 1 Axes>"
      ]
     },
     "metadata": {
      "needs_background": "light"
     },
     "output_type": "display_data"
    }
   ],
   "source": [
    "features_train_1, features_valid_1, target_train_1, target_valid_1 = train_test_split(\n",
    "    features_1, target_1, test_size=.25, random_state=32123)\n",
    "fig = plt.figure(figsize = (12, 6))\n",
    "ax = fig.gca()\n",
    "hist1 = target_train_1.hist(\n",
    "    legend=True\n",
    ")\n",
    "pl.suptitle(\"Распределение запасов нефти второго региона\")\n",
    "hist1.set_xlabel(\"Объём нефти\")\n",
    "hist1.set_ylabel(\"Количество скважин\")"
   ]
  },
  {
   "cell_type": "markdown",
   "metadata": {},
   "source": [
    "<div class=\"alert alert-block alert-warning\">\n",
    "<b>Изменения:</b> Изменён масштаб графика, добавлены подписи осей и название.\n",
    "</div>"
   ]
  },
  {
   "cell_type": "markdown",
   "metadata": {},
   "source": [
    "Объёмы нефти в скважинах второго региона не имеют внятного распределения."
   ]
  },
  {
   "cell_type": "code",
   "execution_count": 81,
   "metadata": {},
   "outputs": [
    {
     "data": {
      "text/plain": [
       "'Среднее значение запаса нефти в скважине:  68.7 тыс. баррелей'"
      ]
     },
     "execution_count": 81,
     "metadata": {},
     "output_type": "execute_result"
    }
   ],
   "source": [
    "f\"Среднее значение запаса нефти в скважине: {target_train_1.mean(): .3} тыс. баррелей\""
   ]
  },
  {
   "cell_type": "code",
   "execution_count": 82,
   "metadata": {},
   "outputs": [
    {
     "data": {
      "text/html": [
       "<div>\n",
       "<style scoped>\n",
       "    .dataframe tbody tr th:only-of-type {\n",
       "        vertical-align: middle;\n",
       "    }\n",
       "\n",
       "    .dataframe tbody tr th {\n",
       "        vertical-align: top;\n",
       "    }\n",
       "\n",
       "    .dataframe thead th {\n",
       "        text-align: right;\n",
       "    }\n",
       "</style>\n",
       "<table border=\"1\" class=\"dataframe\">\n",
       "  <thead>\n",
       "    <tr style=\"text-align: right;\">\n",
       "      <th></th>\n",
       "      <th>f0</th>\n",
       "      <th>f1</th>\n",
       "      <th>f2</th>\n",
       "    </tr>\n",
       "    <tr>\n",
       "      <th>id</th>\n",
       "      <th></th>\n",
       "      <th></th>\n",
       "      <th></th>\n",
       "    </tr>\n",
       "  </thead>\n",
       "  <tbody>\n",
       "    <tr>\n",
       "      <th>tDtY5</th>\n",
       "      <td>0.733016</td>\n",
       "      <td>-0.390459</td>\n",
       "      <td>-0.878137</td>\n",
       "    </tr>\n",
       "    <tr>\n",
       "      <th>Vhtai</th>\n",
       "      <td>-1.284234</td>\n",
       "      <td>-0.644242</td>\n",
       "      <td>1.469057</td>\n",
       "    </tr>\n",
       "    <tr>\n",
       "      <th>vBoCO</th>\n",
       "      <td>-0.510115</td>\n",
       "      <td>1.089749</td>\n",
       "      <td>-0.291124</td>\n",
       "    </tr>\n",
       "    <tr>\n",
       "      <th>SfMWv</th>\n",
       "      <td>-0.698701</td>\n",
       "      <td>-1.017410</td>\n",
       "      <td>0.890288</td>\n",
       "    </tr>\n",
       "    <tr>\n",
       "      <th>15Cyr</th>\n",
       "      <td>0.372528</td>\n",
       "      <td>0.686589</td>\n",
       "      <td>-0.874524</td>\n",
       "    </tr>\n",
       "    <tr>\n",
       "      <th>vXIIz</th>\n",
       "      <td>-0.587659</td>\n",
       "      <td>1.621120</td>\n",
       "      <td>-0.875472</td>\n",
       "    </tr>\n",
       "    <tr>\n",
       "      <th>PlmwS</th>\n",
       "      <td>-0.876600</td>\n",
       "      <td>-1.509598</td>\n",
       "      <td>-0.289920</td>\n",
       "    </tr>\n",
       "    <tr>\n",
       "      <th>mBtS8</th>\n",
       "      <td>0.440508</td>\n",
       "      <td>-0.027724</td>\n",
       "      <td>0.299857</td>\n",
       "    </tr>\n",
       "    <tr>\n",
       "      <th>6OtSo</th>\n",
       "      <td>-1.353175</td>\n",
       "      <td>-0.451031</td>\n",
       "      <td>0.298020</td>\n",
       "    </tr>\n",
       "    <tr>\n",
       "      <th>zyA8c</th>\n",
       "      <td>0.381049</td>\n",
       "      <td>1.338254</td>\n",
       "      <td>0.292503</td>\n",
       "    </tr>\n",
       "  </tbody>\n",
       "</table>\n",
       "</div>"
      ],
      "text/plain": [
       "             f0        f1        f2\n",
       "id                                 \n",
       "tDtY5  0.733016 -0.390459 -0.878137\n",
       "Vhtai -1.284234 -0.644242  1.469057\n",
       "vBoCO -0.510115  1.089749 -0.291124\n",
       "SfMWv -0.698701 -1.017410  0.890288\n",
       "15Cyr  0.372528  0.686589 -0.874524\n",
       "vXIIz -0.587659  1.621120 -0.875472\n",
       "PlmwS -0.876600 -1.509598 -0.289920\n",
       "mBtS8  0.440508 -0.027724  0.299857\n",
       "6OtSo -1.353175 -0.451031  0.298020\n",
       "zyA8c  0.381049  1.338254  0.292503"
      ]
     },
     "metadata": {},
     "output_type": "display_data"
    },
    {
     "name": "stdout",
     "output_type": "stream",
     "text": [
      "<class 'pandas.core.frame.DataFrame'>\n",
      "Index: 75000 entries, tDtY5 to 6EWAz\n",
      "Data columns (total 3 columns):\n",
      " #   Column  Non-Null Count  Dtype  \n",
      "---  ------  --------------  -----  \n",
      " 0   f0      75000 non-null  float64\n",
      " 1   f1      75000 non-null  float64\n",
      " 2   f2      75000 non-null  float64\n",
      "dtypes: float64(3)\n",
      "memory usage: 2.3+ MB\n"
     ]
    },
    {
     "data": {
      "text/plain": [
       "None"
      ]
     },
     "metadata": {},
     "output_type": "display_data"
    },
    {
     "data": {
      "text/html": [
       "<div>\n",
       "<style scoped>\n",
       "    .dataframe tbody tr th:only-of-type {\n",
       "        vertical-align: middle;\n",
       "    }\n",
       "\n",
       "    .dataframe tbody tr th {\n",
       "        vertical-align: top;\n",
       "    }\n",
       "\n",
       "    .dataframe thead th {\n",
       "        text-align: right;\n",
       "    }\n",
       "</style>\n",
       "<table border=\"1\" class=\"dataframe\">\n",
       "  <thead>\n",
       "    <tr style=\"text-align: right;\">\n",
       "      <th></th>\n",
       "      <th>count</th>\n",
       "      <th>mean</th>\n",
       "      <th>std</th>\n",
       "      <th>min</th>\n",
       "      <th>50%</th>\n",
       "      <th>max</th>\n",
       "    </tr>\n",
       "  </thead>\n",
       "  <tbody>\n",
       "    <tr>\n",
       "      <th>f0</th>\n",
       "      <td>75000.0</td>\n",
       "      <td>2.349528e-17</td>\n",
       "      <td>1.000007</td>\n",
       "      <td>-3.653487</td>\n",
       "      <td>0.001707</td>\n",
       "      <td>3.155470</td>\n",
       "    </tr>\n",
       "    <tr>\n",
       "      <th>f1</th>\n",
       "      <td>75000.0</td>\n",
       "      <td>-5.565918e-17</td>\n",
       "      <td>1.000007</td>\n",
       "      <td>-4.210532</td>\n",
       "      <td>-0.004845</td>\n",
       "      <td>4.595829</td>\n",
       "    </tr>\n",
       "    <tr>\n",
       "      <th>f2</th>\n",
       "      <td>75000.0</td>\n",
       "      <td>-6.892265e-17</td>\n",
       "      <td>1.000007</td>\n",
       "      <td>-1.474743</td>\n",
       "      <td>-0.282490</td>\n",
       "      <td>1.486010</td>\n",
       "    </tr>\n",
       "  </tbody>\n",
       "</table>\n",
       "</div>"
      ],
      "text/plain": [
       "      count          mean       std       min       50%       max\n",
       "f0  75000.0  2.349528e-17  1.000007 -3.653487  0.001707  3.155470\n",
       "f1  75000.0 -5.565918e-17  1.000007 -4.210532 -0.004845  4.595829\n",
       "f2  75000.0 -6.892265e-17  1.000007 -1.474743 -0.282490  1.486010"
      ]
     },
     "metadata": {},
     "output_type": "display_data"
    },
    {
     "name": "stdout",
     "output_type": "stream",
     "text": [
      "Количество дублированных строк: 0\n"
     ]
    }
   ],
   "source": [
    "scaler = StandardScaler()\n",
    "scaler.fit(features_train_1)\n",
    "features_train_1 = pd.DataFrame(\n",
    "    scaler.transform(features_train_1),\n",
    "    columns=features_train_1.columns,\n",
    "    index=features_train_1.index)\n",
    "features_valid_1 = pd.DataFrame(\n",
    "    scaler.transform(features_valid_1),\n",
    "    columns=features_valid_1.columns,\n",
    "    index=features_valid_1.index)\n",
    "\n",
    "describe_dataframe(features_train_1)"
   ]
  },
  {
   "cell_type": "markdown",
   "metadata": {},
   "source": [
    "### Третий датафрейм"
   ]
  },
  {
   "cell_type": "code",
   "execution_count": 83,
   "metadata": {},
   "outputs": [
    {
     "data": {
      "text/html": [
       "<div>\n",
       "<style scoped>\n",
       "    .dataframe tbody tr th:only-of-type {\n",
       "        vertical-align: middle;\n",
       "    }\n",
       "\n",
       "    .dataframe tbody tr th {\n",
       "        vertical-align: top;\n",
       "    }\n",
       "\n",
       "    .dataframe thead th {\n",
       "        text-align: right;\n",
       "    }\n",
       "</style>\n",
       "<table border=\"1\" class=\"dataframe\">\n",
       "  <thead>\n",
       "    <tr style=\"text-align: right;\">\n",
       "      <th></th>\n",
       "      <th>id</th>\n",
       "      <th>f0</th>\n",
       "      <th>f1</th>\n",
       "      <th>f2</th>\n",
       "      <th>product</th>\n",
       "    </tr>\n",
       "  </thead>\n",
       "  <tbody>\n",
       "    <tr>\n",
       "      <th>0</th>\n",
       "      <td>fwXo0</td>\n",
       "      <td>-1.146987</td>\n",
       "      <td>0.963328</td>\n",
       "      <td>-0.828965</td>\n",
       "      <td>27.758673</td>\n",
       "    </tr>\n",
       "    <tr>\n",
       "      <th>1</th>\n",
       "      <td>WJtFt</td>\n",
       "      <td>0.262778</td>\n",
       "      <td>0.269839</td>\n",
       "      <td>-2.530187</td>\n",
       "      <td>56.069697</td>\n",
       "    </tr>\n",
       "    <tr>\n",
       "      <th>2</th>\n",
       "      <td>ovLUW</td>\n",
       "      <td>0.194587</td>\n",
       "      <td>0.289035</td>\n",
       "      <td>-5.586433</td>\n",
       "      <td>62.871910</td>\n",
       "    </tr>\n",
       "    <tr>\n",
       "      <th>3</th>\n",
       "      <td>q6cA6</td>\n",
       "      <td>2.236060</td>\n",
       "      <td>-0.553760</td>\n",
       "      <td>0.930038</td>\n",
       "      <td>114.572842</td>\n",
       "    </tr>\n",
       "    <tr>\n",
       "      <th>4</th>\n",
       "      <td>WPMUX</td>\n",
       "      <td>-0.515993</td>\n",
       "      <td>1.716266</td>\n",
       "      <td>5.899011</td>\n",
       "      <td>149.600746</td>\n",
       "    </tr>\n",
       "    <tr>\n",
       "      <th>5</th>\n",
       "      <td>LzZXx</td>\n",
       "      <td>-0.758092</td>\n",
       "      <td>0.710691</td>\n",
       "      <td>2.585887</td>\n",
       "      <td>90.222465</td>\n",
       "    </tr>\n",
       "    <tr>\n",
       "      <th>6</th>\n",
       "      <td>WBHRv</td>\n",
       "      <td>-0.574891</td>\n",
       "      <td>0.317727</td>\n",
       "      <td>1.773745</td>\n",
       "      <td>45.641478</td>\n",
       "    </tr>\n",
       "    <tr>\n",
       "      <th>7</th>\n",
       "      <td>XO8fn</td>\n",
       "      <td>-1.906649</td>\n",
       "      <td>-2.458350</td>\n",
       "      <td>-0.177097</td>\n",
       "      <td>72.480640</td>\n",
       "    </tr>\n",
       "    <tr>\n",
       "      <th>8</th>\n",
       "      <td>ybmQ5</td>\n",
       "      <td>1.776292</td>\n",
       "      <td>-0.279356</td>\n",
       "      <td>3.004156</td>\n",
       "      <td>106.616832</td>\n",
       "    </tr>\n",
       "    <tr>\n",
       "      <th>9</th>\n",
       "      <td>OilcN</td>\n",
       "      <td>-1.214452</td>\n",
       "      <td>-0.439314</td>\n",
       "      <td>5.922514</td>\n",
       "      <td>52.954532</td>\n",
       "    </tr>\n",
       "  </tbody>\n",
       "</table>\n",
       "</div>"
      ],
      "text/plain": [
       "      id        f0        f1        f2     product\n",
       "0  fwXo0 -1.146987  0.963328 -0.828965   27.758673\n",
       "1  WJtFt  0.262778  0.269839 -2.530187   56.069697\n",
       "2  ovLUW  0.194587  0.289035 -5.586433   62.871910\n",
       "3  q6cA6  2.236060 -0.553760  0.930038  114.572842\n",
       "4  WPMUX -0.515993  1.716266  5.899011  149.600746\n",
       "5  LzZXx -0.758092  0.710691  2.585887   90.222465\n",
       "6  WBHRv -0.574891  0.317727  1.773745   45.641478\n",
       "7  XO8fn -1.906649 -2.458350 -0.177097   72.480640\n",
       "8  ybmQ5  1.776292 -0.279356  3.004156  106.616832\n",
       "9  OilcN -1.214452 -0.439314  5.922514   52.954532"
      ]
     },
     "metadata": {},
     "output_type": "display_data"
    },
    {
     "name": "stdout",
     "output_type": "stream",
     "text": [
      "<class 'pandas.core.frame.DataFrame'>\n",
      "RangeIndex: 100000 entries, 0 to 99999\n",
      "Data columns (total 5 columns):\n",
      " #   Column   Non-Null Count   Dtype  \n",
      "---  ------   --------------   -----  \n",
      " 0   id       100000 non-null  object \n",
      " 1   f0       100000 non-null  float64\n",
      " 2   f1       100000 non-null  float64\n",
      " 3   f2       100000 non-null  float64\n",
      " 4   product  100000 non-null  float64\n",
      "dtypes: float64(4), object(1)\n",
      "memory usage: 3.8+ MB\n"
     ]
    },
    {
     "data": {
      "text/plain": [
       "None"
      ]
     },
     "metadata": {},
     "output_type": "display_data"
    },
    {
     "data": {
      "text/html": [
       "<div>\n",
       "<style scoped>\n",
       "    .dataframe tbody tr th:only-of-type {\n",
       "        vertical-align: middle;\n",
       "    }\n",
       "\n",
       "    .dataframe tbody tr th {\n",
       "        vertical-align: top;\n",
       "    }\n",
       "\n",
       "    .dataframe thead th {\n",
       "        text-align: right;\n",
       "    }\n",
       "</style>\n",
       "<table border=\"1\" class=\"dataframe\">\n",
       "  <thead>\n",
       "    <tr style=\"text-align: right;\">\n",
       "      <th></th>\n",
       "      <th>count</th>\n",
       "      <th>mean</th>\n",
       "      <th>std</th>\n",
       "      <th>min</th>\n",
       "      <th>50%</th>\n",
       "      <th>max</th>\n",
       "    </tr>\n",
       "  </thead>\n",
       "  <tbody>\n",
       "    <tr>\n",
       "      <th>f0</th>\n",
       "      <td>100000.0</td>\n",
       "      <td>0.002023</td>\n",
       "      <td>1.732045</td>\n",
       "      <td>-8.760004</td>\n",
       "      <td>0.009424</td>\n",
       "      <td>7.238262</td>\n",
       "    </tr>\n",
       "    <tr>\n",
       "      <th>f1</th>\n",
       "      <td>100000.0</td>\n",
       "      <td>-0.002081</td>\n",
       "      <td>1.730417</td>\n",
       "      <td>-7.084020</td>\n",
       "      <td>-0.009482</td>\n",
       "      <td>7.844801</td>\n",
       "    </tr>\n",
       "    <tr>\n",
       "      <th>f2</th>\n",
       "      <td>100000.0</td>\n",
       "      <td>2.495128</td>\n",
       "      <td>3.473445</td>\n",
       "      <td>-11.970335</td>\n",
       "      <td>2.484236</td>\n",
       "      <td>16.739402</td>\n",
       "    </tr>\n",
       "    <tr>\n",
       "      <th>product</th>\n",
       "      <td>100000.0</td>\n",
       "      <td>95.000000</td>\n",
       "      <td>44.749921</td>\n",
       "      <td>0.000000</td>\n",
       "      <td>94.925613</td>\n",
       "      <td>190.029838</td>\n",
       "    </tr>\n",
       "  </tbody>\n",
       "</table>\n",
       "</div>"
      ],
      "text/plain": [
       "            count       mean        std        min        50%         max\n",
       "f0       100000.0   0.002023   1.732045  -8.760004   0.009424    7.238262\n",
       "f1       100000.0  -0.002081   1.730417  -7.084020  -0.009482    7.844801\n",
       "f2       100000.0   2.495128   3.473445 -11.970335   2.484236   16.739402\n",
       "product  100000.0  95.000000  44.749921   0.000000  94.925613  190.029838"
      ]
     },
     "metadata": {},
     "output_type": "display_data"
    },
    {
     "name": "stdout",
     "output_type": "stream",
     "text": [
      "Количество дублированных строк: 0\n"
     ]
    }
   ],
   "source": [
    "describe_dataframe(df2)"
   ]
  },
  {
   "cell_type": "code",
   "execution_count": 84,
   "metadata": {},
   "outputs": [],
   "source": [
    "features_2 = df2[[\"f0\", \"f1\", \"f2\"]]\n",
    "features_2.index = df2['id']\n",
    "target_2 = df2['product']\n",
    "target_2.index = df2['id']"
   ]
  },
  {
   "cell_type": "code",
   "execution_count": 85,
   "metadata": {},
   "outputs": [
    {
     "data": {
      "text/plain": [
       "Text(0, 0.5, 'Количество скважин')"
      ]
     },
     "execution_count": 85,
     "metadata": {},
     "output_type": "execute_result"
    },
    {
     "data": {
      "image/png": "[encoded data removed]",
      "text/plain": [
       "<Figure size 864x432 with 1 Axes>"
      ]
     },
     "metadata": {
      "needs_background": "light"
     },
     "output_type": "display_data"
    }
   ],
   "source": [
    "features_train_2, features_valid_2, target_train_2, target_valid_2 = train_test_split(\n",
    "    features_2, target_2, test_size=.25, random_state=32123)\n",
    "fig = plt.figure(figsize = (12, 6))\n",
    "ax = fig.gca()\n",
    "hist2 = target_train_2.hist(\n",
    "    bins=19,\n",
    "    legend=True\n",
    ")\n",
    "pl.suptitle(\"Распределение запасов нефти третьего региона\")\n",
    "hist2.set_xlabel(\"Объём нефти\")\n",
    "hist2.set_ylabel(\"Количество скважин\")"
   ]
  },
  {
   "cell_type": "markdown",
   "metadata": {},
   "source": [
    "<div class=\"alert alert-block alert-warning\">\n",
    "<b>Изменения:</b> Изменён масштаб графика, добавлены подписи осей и название.\n",
    "</div>"
   ]
  },
  {
   "cell_type": "markdown",
   "metadata": {},
   "source": [
    "Объёмы нефти в скважинах третьего региона нормально распределены."
   ]
  },
  {
   "cell_type": "code",
   "execution_count": 86,
   "metadata": {},
   "outputs": [
    {
     "data": {
      "text/plain": [
       "'Среднее значение запаса нефти в скважине:  95.1 тыс. баррелей'"
      ]
     },
     "execution_count": 86,
     "metadata": {},
     "output_type": "execute_result"
    }
   ],
   "source": [
    "f\"Среднее значение запаса нефти в скважине: {target_train_2.mean(): .3} тыс. баррелей\""
   ]
  },
  {
   "cell_type": "code",
   "execution_count": 87,
   "metadata": {},
   "outputs": [
    {
     "data": {
      "text/html": [
       "<div>\n",
       "<style scoped>\n",
       "    .dataframe tbody tr th:only-of-type {\n",
       "        vertical-align: middle;\n",
       "    }\n",
       "\n",
       "    .dataframe tbody tr th {\n",
       "        vertical-align: top;\n",
       "    }\n",
       "\n",
       "    .dataframe thead th {\n",
       "        text-align: right;\n",
       "    }\n",
       "</style>\n",
       "<table border=\"1\" class=\"dataframe\">\n",
       "  <thead>\n",
       "    <tr style=\"text-align: right;\">\n",
       "      <th></th>\n",
       "      <th>f0</th>\n",
       "      <th>f1</th>\n",
       "      <th>f2</th>\n",
       "    </tr>\n",
       "    <tr>\n",
       "      <th>id</th>\n",
       "      <th></th>\n",
       "      <th></th>\n",
       "      <th></th>\n",
       "    </tr>\n",
       "  </thead>\n",
       "  <tbody>\n",
       "    <tr>\n",
       "      <th>3qDeI</th>\n",
       "      <td>0.077896</td>\n",
       "      <td>0.111264</td>\n",
       "      <td>-1.244300</td>\n",
       "    </tr>\n",
       "    <tr>\n",
       "      <th>pAa2b</th>\n",
       "      <td>0.247590</td>\n",
       "      <td>0.304486</td>\n",
       "      <td>-0.124648</td>\n",
       "    </tr>\n",
       "    <tr>\n",
       "      <th>VQYfj</th>\n",
       "      <td>0.556312</td>\n",
       "      <td>-0.973663</td>\n",
       "      <td>-0.583083</td>\n",
       "    </tr>\n",
       "    <tr>\n",
       "      <th>EPmVj</th>\n",
       "      <td>0.902398</td>\n",
       "      <td>0.930041</td>\n",
       "      <td>1.658478</td>\n",
       "    </tr>\n",
       "    <tr>\n",
       "      <th>n1gVE</th>\n",
       "      <td>-1.569647</td>\n",
       "      <td>-0.892592</td>\n",
       "      <td>0.587865</td>\n",
       "    </tr>\n",
       "    <tr>\n",
       "      <th>Vje6p</th>\n",
       "      <td>-1.086760</td>\n",
       "      <td>-0.088092</td>\n",
       "      <td>-0.194370</td>\n",
       "    </tr>\n",
       "    <tr>\n",
       "      <th>HJuG3</th>\n",
       "      <td>-1.255595</td>\n",
       "      <td>0.115245</td>\n",
       "      <td>0.574214</td>\n",
       "    </tr>\n",
       "    <tr>\n",
       "      <th>qYLbZ</th>\n",
       "      <td>-0.625456</td>\n",
       "      <td>0.423360</td>\n",
       "      <td>0.265543</td>\n",
       "    </tr>\n",
       "    <tr>\n",
       "      <th>EBA2M</th>\n",
       "      <td>-1.371018</td>\n",
       "      <td>1.265440</td>\n",
       "      <td>-1.359392</td>\n",
       "    </tr>\n",
       "    <tr>\n",
       "      <th>6bmIx</th>\n",
       "      <td>0.649020</td>\n",
       "      <td>-1.398595</td>\n",
       "      <td>-0.218432</td>\n",
       "    </tr>\n",
       "  </tbody>\n",
       "</table>\n",
       "</div>"
      ],
      "text/plain": [
       "             f0        f1        f2\n",
       "id                                 \n",
       "3qDeI  0.077896  0.111264 -1.244300\n",
       "pAa2b  0.247590  0.304486 -0.124648\n",
       "VQYfj  0.556312 -0.973663 -0.583083\n",
       "EPmVj  0.902398  0.930041  1.658478\n",
       "n1gVE -1.569647 -0.892592  0.587865\n",
       "Vje6p -1.086760 -0.088092 -0.194370\n",
       "HJuG3 -1.255595  0.115245  0.574214\n",
       "qYLbZ -0.625456  0.423360  0.265543\n",
       "EBA2M -1.371018  1.265440 -1.359392\n",
       "6bmIx  0.649020 -1.398595 -0.218432"
      ]
     },
     "metadata": {},
     "output_type": "display_data"
    },
    {
     "name": "stdout",
     "output_type": "stream",
     "text": [
      "<class 'pandas.core.frame.DataFrame'>\n",
      "Index: 75000 entries, 3qDeI to OixjL\n",
      "Data columns (total 3 columns):\n",
      " #   Column  Non-Null Count  Dtype  \n",
      "---  ------  --------------  -----  \n",
      " 0   f0      75000 non-null  float64\n",
      " 1   f1      75000 non-null  float64\n",
      " 2   f2      75000 non-null  float64\n",
      "dtypes: float64(3)\n",
      "memory usage: 2.3+ MB\n"
     ]
    },
    {
     "data": {
      "text/plain": [
       "None"
      ]
     },
     "metadata": {},
     "output_type": "display_data"
    },
    {
     "data": {
      "text/html": [
       "<div>\n",
       "<style scoped>\n",
       "    .dataframe tbody tr th:only-of-type {\n",
       "        vertical-align: middle;\n",
       "    }\n",
       "\n",
       "    .dataframe tbody tr th {\n",
       "        vertical-align: top;\n",
       "    }\n",
       "\n",
       "    .dataframe thead th {\n",
       "        text-align: right;\n",
       "    }\n",
       "</style>\n",
       "<table border=\"1\" class=\"dataframe\">\n",
       "  <thead>\n",
       "    <tr style=\"text-align: right;\">\n",
       "      <th></th>\n",
       "      <th>count</th>\n",
       "      <th>mean</th>\n",
       "      <th>std</th>\n",
       "      <th>min</th>\n",
       "      <th>50%</th>\n",
       "      <th>max</th>\n",
       "    </tr>\n",
       "  </thead>\n",
       "  <tbody>\n",
       "    <tr>\n",
       "      <th>f0</th>\n",
       "      <td>75000.0</td>\n",
       "      <td>-5.115908e-18</td>\n",
       "      <td>1.000007</td>\n",
       "      <td>-5.052342</td>\n",
       "      <td>0.006086</td>\n",
       "      <td>4.176382</td>\n",
       "    </tr>\n",
       "    <tr>\n",
       "      <th>f1</th>\n",
       "      <td>75000.0</td>\n",
       "      <td>-6.536993e-18</td>\n",
       "      <td>1.000007</td>\n",
       "      <td>-4.097313</td>\n",
       "      <td>-0.004978</td>\n",
       "      <td>4.543278</td>\n",
       "    </tr>\n",
       "    <tr>\n",
       "      <th>f2</th>\n",
       "      <td>75000.0</td>\n",
       "      <td>4.732215e-17</td>\n",
       "      <td>1.000007</td>\n",
       "      <td>-4.066936</td>\n",
       "      <td>-0.003283</td>\n",
       "      <td>4.098144</td>\n",
       "    </tr>\n",
       "  </tbody>\n",
       "</table>\n",
       "</div>"
      ],
      "text/plain": [
       "      count          mean       std       min       50%       max\n",
       "f0  75000.0 -5.115908e-18  1.000007 -5.052342  0.006086  4.176382\n",
       "f1  75000.0 -6.536993e-18  1.000007 -4.097313 -0.004978  4.543278\n",
       "f2  75000.0  4.732215e-17  1.000007 -4.066936 -0.003283  4.098144"
      ]
     },
     "metadata": {},
     "output_type": "display_data"
    },
    {
     "name": "stdout",
     "output_type": "stream",
     "text": [
      "Количество дублированных строк: 0\n"
     ]
    }
   ],
   "source": [
    "scaler = StandardScaler()\n",
    "scaler.fit(features_train_2)\n",
    "features_train_2 = pd.DataFrame(\n",
    "    scaler.transform(features_train_2),\n",
    "    columns=features_train_2.columns,\n",
    "    index=features_train_2.index)\n",
    "features_valid_2 = pd.DataFrame(\n",
    "    scaler.transform(features_valid_2),\n",
    "    columns=features_valid_2.columns,\n",
    "    index=features_valid_2.index)\n",
    "\n",
    "describe_dataframe(features_train_2)"
   ]
  },
  {
   "cell_type": "markdown",
   "metadata": {},
   "source": [
    "Данные нормализованы, не имеют пропусков и подготовлены для использования в обучении моделей.\n",
    "В целом данных выглядят следующим образом: в среднем больше всего нефти в третьем и первом регионах, ожидаемо именно в них будут самые большие показатели доходности шахт (доходность будет определяться по предсказанным значениям, поэтому уверенности в этом нет). При этом во втором регионе много объёмных шахт, при условии, что будут отбирать только самые объемные месторождения, сразу списывать со счетов его не стоит."
   ]
  },
  {
   "cell_type": "markdown",
   "metadata": {},
   "source": [
    "<div class=\"alert alert-block alert-success\">\n",
    "<b>Успех:</b> Данные загружены и осмотрены корректно. Согласен, что колонка id нам не нужна.\n",
    "</div>\n",
    "\n",
    "<div class=\"alert alert-block alert-danger\">\n",
    "<b>Ошибка:</b> Во всех графиках в проекте нужно подписать оси и названия, чтобы было понятно, что на нем визуализировано.\n",
    "</div>\n",
    "\n",
    "<div class=\"alert alert-block alert-success\">\n",
    "<b>Успех:</b> Отлично, что scaler был обучен только на треине!\n",
    "</div>\n",
    "\n",
    "<div class=\"alert alert-block alert-warning\">\n",
    "<b>Исправлено:</b> Изменены масштабы графиков, добавлены подписи осей и названия графиков.\n",
    "</div>"
   ]
  },
  {
   "cell_type": "markdown",
   "metadata": {},
   "source": [
    "## Обучение и проверка модели"
   ]
  },
  {
   "cell_type": "markdown",
   "metadata": {},
   "source": [
    "Так как требуется определить объём запасов нефти в скважине (количественный признак), то необходимо использовать модели RandomForest и LinearRegression. Найдем лучшие модели для каждого датасета, проверку будем проводить по метрике RMSE (корень квадратный из средней квадратичной ошибки), т.к. она подходит для задачи регрессии. Однако финальное сравнение стоит провести в конце работы при расчёте прибыли и рисков, т.к. именно это - цель данного проекта."
   ]
  },
  {
   "cell_type": "markdown",
   "metadata": {},
   "source": [
    "### Оценка адекватности моделей"
   ]
  },
  {
   "cell_type": "markdown",
   "metadata": {},
   "source": [
    "Сперва оценим адекватность моделей. Рассчитаем среднее значение объема скважины (валидационных данных, т.к. на них проверяются модели) и посчитаем MSE.\n",
    "Повторим для всех 3-х моделей."
   ]
  },
  {
   "cell_type": "code",
   "execution_count": 88,
   "metadata": {},
   "outputs": [
    {
     "name": "stdout",
     "output_type": "stream",
     "text": [
      "RMSE первой модели: 44.442944498974654\n"
     ]
    }
   ],
   "source": [
    "predictions = pd.Series(target_valid_0.mean(), index=target_valid_0.index)\n",
    "print(\"RMSE первой модели:\", mean_squared_error(target_valid_0, predictions)**0.5)"
   ]
  },
  {
   "cell_type": "code",
   "execution_count": 89,
   "metadata": {},
   "outputs": [
    {
     "name": "stdout",
     "output_type": "stream",
     "text": [
      "RMSE второй модели: 46.10604333254927\n"
     ]
    }
   ],
   "source": [
    "predictions = pd.Series(target_valid_1.mean(), index=target_valid_1.index)\n",
    "print(\"RMSE второй модели:\", mean_squared_error(target_valid_1, predictions)**0.5)"
   ]
  },
  {
   "cell_type": "code",
   "execution_count": 90,
   "metadata": {},
   "outputs": [
    {
     "name": "stdout",
     "output_type": "stream",
     "text": [
      "RMSE третьей модели: 44.778347592430094\n"
     ]
    }
   ],
   "source": [
    "predictions = pd.Series(target_valid_2.mean(), index=target_valid_2.index)\n",
    "print(\"RMSE третьей модели:\", mean_squared_error(target_valid_2, predictions)**0.5)"
   ]
  },
  {
   "cell_type": "markdown",
   "metadata": {},
   "source": [
    "### Обучение моделей первого региона"
   ]
  },
  {
   "cell_type": "markdown",
   "metadata": {},
   "source": [
    "Обучим и проверим модель линейной регрессии для первого региона:"
   ]
  },
  {
   "cell_type": "code",
   "execution_count": 91,
   "metadata": {},
   "outputs": [
    {
     "data": {
      "text/plain": [
       "LinearRegression()"
      ]
     },
     "execution_count": 91,
     "metadata": {},
     "output_type": "execute_result"
    }
   ],
   "source": [
    "linear_model0 = LinearRegression()\n",
    "linear_model0.fit(features_train_0, target_train_0)"
   ]
  },
  {
   "cell_type": "code",
   "execution_count": 92,
   "metadata": {},
   "outputs": [
    {
     "name": "stdout",
     "output_type": "stream",
     "text": [
      "RMSE модели линейной регрессии на валидационной выборке первого региона: 37.61902013878075\n"
     ]
    }
   ],
   "source": [
    "linear_model0_predictions_valid = linear_model0.predict(features_valid_0)\n",
    "linear_model0_result = mean_squared_error(target_valid_0, linear_model0_predictions_valid)**0.5\n",
    "print(f\"RMSE модели линейной регрессии на валидационной выборке первого региона: {linear_model0_result}\")"
   ]
  },
  {
   "cell_type": "markdown",
   "metadata": {},
   "source": [
    "Найдем лучшую модель случайного леса для первого региона:"
   ]
  },
  {
   "cell_type": "code",
   "execution_count": 93,
   "metadata": {},
   "outputs": [],
   "source": [
    "best_rf_model0_dt_model, best_rf_model0_predicted_valid = None, None\n",
    "best_rf_model0_result, best_rf_model0_est, best_rf_model0_depth = 10000, 0, 0"
   ]
  },
  {
   "cell_type": "code",
   "execution_count": 94,
   "metadata": {},
   "outputs": [
    {
     "name": "stderr",
     "output_type": "stream",
     "text": [
      "100%|██████████| 14/14 [25:29<00:00, 109.27s/it]\n"
     ]
    }
   ],
   "source": [
    "for n_estimators in tqdm(range(10, 141, 10)):\n",
    "    for depth in range (1, 14):\n",
    "        rf_model0 = RandomForestRegressor(random_state=12345, max_depth=depth, n_estimators=n_estimators)\n",
    "        rf_model0.fit(features_train_0, target_train_0)\n",
    "        rf_model0_predictions_valid = rf_model0.predict(features_valid_0)\n",
    "        result = mean_squared_error(target_valid_0, rf_model0_predictions_valid)**0.5\n",
    "        if result < best_rf_model0_result:\n",
    "            best_rf_model0 = rf_model0\n",
    "            best_rf_model0_result = result\n",
    "            best_rf_model0_est = n_estimators\n",
    "            best_rf_model0_depth = depth\n",
    "            best_rf_model0_predicted_valid = rf_model0_predictions_valid"
   ]
  },
  {
   "cell_type": "code",
   "execution_count": 95,
   "metadata": {},
   "outputs": [
    {
     "name": "stdout",
     "output_type": "stream",
     "text": [
      "RMSE наилучшей модели случайного леса на валидационной выборке первого региона: 37.090735964043276\n"
     ]
    }
   ],
   "source": [
    "print(f\"RMSE наилучшей модели случайного леса на валидационной выборке первого региона: {best_rf_model0_result}\")"
   ]
  },
  {
   "cell_type": "code",
   "execution_count": 96,
   "metadata": {},
   "outputs": [
    {
     "name": "stdout",
     "output_type": "stream",
     "text": [
      "Среднее количество предсказанного сырья первого региона: 92.4\n"
     ]
    }
   ],
   "source": [
    "print(f\"Среднее количество предсказанного сырья первого региона: \"\n",
    "      f\"{best_rf_model0_predicted_valid.sum() / len(best_rf_model0_predicted_valid):.3}\")"
   ]
  },
  {
   "cell_type": "code",
   "execution_count": 97,
   "metadata": {},
   "outputs": [
    {
     "name": "stdout",
     "output_type": "stream",
     "text": [
      "Глубина: 9, количество деревьев: 140 наилучшей модели случайного леса первого региона\n"
     ]
    }
   ],
   "source": [
    "print(f\"Глубина: {best_rf_model0_depth}, количество деревьев: {best_rf_model0_est} наилучшей модели случайного леса первого региона\")"
   ]
  },
  {
   "cell_type": "markdown",
   "metadata": {},
   "source": [
    "### Обучение моделей второго региона"
   ]
  },
  {
   "cell_type": "markdown",
   "metadata": {},
   "source": [
    "Обучим и проверим модель линейной регрессии для второго региона:"
   ]
  },
  {
   "cell_type": "code",
   "execution_count": 98,
   "metadata": {},
   "outputs": [
    {
     "data": {
      "text/plain": [
       "LinearRegression()"
      ]
     },
     "execution_count": 98,
     "metadata": {},
     "output_type": "execute_result"
    }
   ],
   "source": [
    "linear_model1 = LinearRegression()\n",
    "linear_model1.fit(features_train_1, target_train_1)"
   ]
  },
  {
   "cell_type": "code",
   "execution_count": 99,
   "metadata": {},
   "outputs": [
    {
     "name": "stdout",
     "output_type": "stream",
     "text": [
      "RMSE модели линейной регрессии на валидационной выборке второго региона: 0.8937212510676176\n"
     ]
    }
   ],
   "source": [
    "linear_model1_predictions_valid = linear_model1.predict(features_valid_1)\n",
    "linear_model1_result = mean_squared_error(target_valid_1, linear_model1_predictions_valid)**0.5\n",
    "print(f\"RMSE модели линейной регрессии на валидационной выборке второго региона: {linear_model1_result}\")"
   ]
  },
  {
   "cell_type": "markdown",
   "metadata": {},
   "source": [
    "Найдем лучшую модель случайного леса для второго региона:"
   ]
  },
  {
   "cell_type": "code",
   "execution_count": 100,
   "metadata": {},
   "outputs": [],
   "source": [
    "best_rf_model1_dt_model, best_rf_model1_predicted_valid = None, None\n",
    "best_rf_model1_result, best_rf_model1_est, best_rf_model1_depth = 10000, 0, 0"
   ]
  },
  {
   "cell_type": "code",
   "execution_count": 101,
   "metadata": {},
   "outputs": [
    {
     "name": "stderr",
     "output_type": "stream",
     "text": [
      "100%|██████████| 14/14 [28:07<00:00, 120.51s/it]\n"
     ]
    }
   ],
   "source": [
    "for n_estimators in tqdm(range(10, 141, 10)):\n",
    "    for depth in range (1, 14):\n",
    "        rf_model1 = RandomForestRegressor(random_state=12345, max_depth=depth, n_estimators=n_estimators)\n",
    "        rf_model1.fit(features_train_1, target_train_1)\n",
    "        rf_model1_predictions_valid = rf_model1.predict(features_valid_1)\n",
    "        result = mean_squared_error(target_valid_1, rf_model1_predictions_valid)**0.5\n",
    "        if result < best_rf_model1_result:\n",
    "            best_rf_model1 = rf_model1\n",
    "            best_rf_model1_result = result\n",
    "            best_rf_model1_est = n_estimators\n",
    "            best_rf_model1_depth = depth\n",
    "            best_rf_model1_predicted_valid = rf_model1_predictions_valid"
   ]
  },
  {
   "cell_type": "code",
   "execution_count": 102,
   "metadata": {},
   "outputs": [
    {
     "name": "stdout",
     "output_type": "stream",
     "text": [
      "RMSE наилучшей модели случайного леса на валидационной выборке: 0.7160936070080385\n"
     ]
    }
   ],
   "source": [
    "print(f\"RMSE наилучшей модели случайного леса на валидационной выборке: {best_rf_model1_result}\")"
   ]
  },
  {
   "cell_type": "code",
   "execution_count": 103,
   "metadata": {},
   "outputs": [
    {
     "name": "stdout",
     "output_type": "stream",
     "text": [
      "Среднее количество предсказанного сырья второго региона: 69.1\n"
     ]
    }
   ],
   "source": [
    "print(f\"Среднее количество предсказанного сырья второго региона: \"\n",
    "      f\"{best_rf_model1_predicted_valid.sum() / len(best_rf_model1_predicted_valid):.3}\")"
   ]
  },
  {
   "cell_type": "code",
   "execution_count": 104,
   "metadata": {},
   "outputs": [
    {
     "name": "stdout",
     "output_type": "stream",
     "text": [
      "Глубина: 7, количество деревьев: 130 наилучшей модели случайного леса второго региона\n"
     ]
    }
   ],
   "source": [
    "print(f\"Глубина: {best_rf_model1_depth}, количество деревьев: {best_rf_model1_est} наилучшей модели случайного леса второго региона\")"
   ]
  },
  {
   "cell_type": "markdown",
   "metadata": {},
   "source": [
    "### Обучение моделей третьего региона"
   ]
  },
  {
   "cell_type": "markdown",
   "metadata": {},
   "source": [
    "Обучим и проверим модель линейной регрессии для третьего региона:"
   ]
  },
  {
   "cell_type": "code",
   "execution_count": 105,
   "metadata": {},
   "outputs": [
    {
     "data": {
      "text/plain": [
       "LinearRegression()"
      ]
     },
     "execution_count": 105,
     "metadata": {},
     "output_type": "execute_result"
    }
   ],
   "source": [
    "linear_model2 = LinearRegression()\n",
    "linear_model2.fit(features_train_2, target_train_2)"
   ]
  },
  {
   "cell_type": "code",
   "execution_count": 106,
   "metadata": {},
   "outputs": [
    {
     "name": "stdout",
     "output_type": "stream",
     "text": [
      "RMSE модели линейной регрессии на валидационной выборке третьего региона: 40.0289907015887\n"
     ]
    }
   ],
   "source": [
    "linear_model2_predictions_valid = linear_model2.predict(features_valid_2)\n",
    "linear_model2_result = mean_squared_error(target_valid_2, linear_model2_predictions_valid)**0.5\n",
    "print(f\"RMSE модели линейной регрессии на валидационной выборке третьего региона: {linear_model2_result}\")"
   ]
  },
  {
   "cell_type": "markdown",
   "metadata": {},
   "source": [
    "Найдем лучшую модель случайного леса для третьего региона:"
   ]
  },
  {
   "cell_type": "code",
   "execution_count": 107,
   "metadata": {},
   "outputs": [],
   "source": [
    "best_rf_model2_dt_model, best_rf_model2_predicted_valid = None, None\n",
    "best_rf_model2_result, best_rf_model2_est, best_rf_model2_depth = 10000, 0, 0"
   ]
  },
  {
   "cell_type": "code",
   "execution_count": 108,
   "metadata": {},
   "outputs": [
    {
     "name": "stderr",
     "output_type": "stream",
     "text": [
      "100%|██████████| 14/14 [29:13<00:00, 125.26s/it]\n"
     ]
    }
   ],
   "source": [
    "for n_estimators in tqdm(range(10, 141, 10)):\n",
    "    for depth in range (1, 14):\n",
    "        rf_model2 = RandomForestRegressor(random_state=12345, max_depth=depth, n_estimators=n_estimators)\n",
    "        rf_model2.fit(features_train_2, target_train_2)\n",
    "        rf_model2_predictions_valid = rf_model2.predict(features_valid_2)\n",
    "        result = mean_squared_error(target_valid_2, rf_model2_predictions_valid)**0.5\n",
    "        if result < best_rf_model2_result:\n",
    "            best_rf_model2 = rf_model2\n",
    "            best_rf_model2_result = result\n",
    "            best_rf_model2_est = n_estimators\n",
    "            best_rf_model2_depth = depth\n",
    "            best_rf_model2_predicted_valid = rf_model2_predictions_valid"
   ]
  },
  {
   "cell_type": "code",
   "execution_count": 109,
   "metadata": {},
   "outputs": [
    {
     "name": "stdout",
     "output_type": "stream",
     "text": [
      "RMSE наилучшей модели случайного леса на валидационной выборке третьего региона: 37.585150191382425\n"
     ]
    }
   ],
   "source": [
    "print(f\"RMSE наилучшей модели случайного леса на валидационной выборке третьего региона: {best_rf_model2_result}\")"
   ]
  },
  {
   "cell_type": "code",
   "execution_count": 110,
   "metadata": {},
   "outputs": [
    {
     "name": "stdout",
     "output_type": "stream",
     "text": [
      "Среднее количество предсказанного сырья третьего региона: 94.7\n"
     ]
    }
   ],
   "source": [
    "print(f\"Среднее количество предсказанного сырья третьего региона: \"\n",
    "      f\"{best_rf_model2_predicted_valid.sum() / len(best_rf_model2_predicted_valid):.3}\")"
   ]
  },
  {
   "cell_type": "code",
   "execution_count": 111,
   "metadata": {},
   "outputs": [
    {
     "name": "stdout",
     "output_type": "stream",
     "text": [
      "Глубина: 11, количество деревьев: 140 наилучшей модели случайного леса третьего региона\n"
     ]
    }
   ],
   "source": [
    "print(f\"Глубина: {best_rf_model2_depth}, количество деревьев: {best_rf_model2_est} наилучшей модели случайного леса третьего региона\")"
   ]
  },
  {
   "cell_type": "markdown",
   "metadata": {},
   "source": [
    "Данные второго региона распределены равномерно, данные первого и третьего регионов распределены нормально, поэтому средняя ошибка моделей гораздо выше.\n",
    "Лучше всего показали себя модели для второго региона, проверим их далее при расчете прибыли.\n",
    "Предсказания и правильные ответы на выборки были сохранены, все результаты продемонстрированы в ходе выполнения работы.\n",
    "Хоть предсказания для первого и третьего регионов гораздо хуже предсказаний второго региона, но все-же RMSE в них ниже порога адекватности на 25-30%, это говорит о целесообразности использования данных моделей.\n",
    "По средним показателям предсказанного сырья видно, что второй регион в среднем уступает по запасам нефти первому и третьему, его результат сильно хуже."
   ]
  },
  {
   "cell_type": "markdown",
   "metadata": {},
   "source": [
    "<div class=\"alert alert-block alert-success\">\n",
    "<b>Успех:</b> Модели обучены корректно.\n",
    "</div>\n",
    "\n",
    "<div class=\"alert alert-block alert-info\">\n",
    "<b>Совет: </b> На протяжении всего проекта происходит работа с 3мя одинаковыми таблицами. В связи с этим можно было использовать функции и/или циклы, чтобы избежать копирования кода.\n",
    "<br> Зачем его нужно избегать? Потому что очень часто оно приводит к ошибкам (например, забыл поменять одну из переменных). Впоследствии такие ошибки очень трудно найти.\n",
    "</div>\n",
    "\n",
    "<div class=\"alert alert-block alert-warning\", padding: 15px\">\n",
    "<strong>Комментарий студента:</strong>\n",
    "    Да, была такая идея в начале работы с проектом.\n",
    "    Но решил, что так будет нагляднее или для каждого датасета что-то изменится при правках и комментариях.\n",
    "    Учту в последующей работе!\n",
    "</div>"
   ]
  },
  {
   "cell_type": "markdown",
   "metadata": {},
   "source": [
    "## Подготовка к расчёту прибыли"
   ]
  },
  {
   "cell_type": "markdown",
   "metadata": {},
   "source": [
    "Для того чтобы скважины окупились, их запасы нефти должны превышать значение 111.1 тыс. баррелей.\n",
    "Это число больше чем среднее значение любого региона. Это не страшно, так как будем выбирать самые объёмные из выборки."
   ]
  },
  {
   "cell_type": "markdown",
   "metadata": {},
   "source": [
    "Бюджет на разработку скважин в регионе — 10 млрд рублей."
   ]
  },
  {
   "cell_type": "code",
   "execution_count": 118,
   "metadata": {},
   "outputs": [],
   "source": [
    "BUDGET_PER_WELL = 10000000000"
   ]
  },
  {
   "cell_type": "markdown",
   "metadata": {},
   "source": [
    "При разведке региона исследуют 500 точек, из которых с помощью машинного обучения выбирают 200 лучших для разработки."
   ]
  },
  {
   "cell_type": "code",
   "execution_count": 119,
   "metadata": {},
   "outputs": [],
   "source": [
    "POINTS = 500\n",
    "COUNT = 200"
   ]
  },
  {
   "cell_type": "markdown",
   "metadata": {},
   "source": [
    "При нынешних ценах один баррель сырья приносит 450 рублей дохода. Доход с каждой единицы продукта составляет 450 тыс. рублей, поскольку объём указан в тысячах баррелей."
   ]
  },
  {
   "cell_type": "code",
   "execution_count": 120,
   "metadata": {},
   "outputs": [],
   "source": [
    "PROFIT_PER_BARREL = 450000"
   ]
  },
  {
   "cell_type": "markdown",
   "metadata": {},
   "source": [
    "После оценки рисков нужно оставить лишь те регионы, в которых вероятность убытков меньше 2.5%. Среди них выбирают регион с наибольшей средней прибылью."
   ]
  },
  {
   "cell_type": "markdown",
   "metadata": {},
   "source": [
    "Вероятность убытков - это процент убыточных скважин от общего их количества. Убыток — это отрицательная прибыль."
   ]
  },
  {
   "cell_type": "markdown",
   "metadata": {},
   "source": [
    "Применим технику Bootstrap с 1000 выборок, чтобы найти распределение прибыли."
   ]
  },
  {
   "cell_type": "code",
   "execution_count": 121,
   "metadata": {},
   "outputs": [],
   "source": [
    "BOOTSTRAP_SAMPLES = 1000"
   ]
  },
  {
   "cell_type": "markdown",
   "metadata": {},
   "source": [
    "Доверительный интервал по условию = 95%"
   ]
  },
  {
   "cell_type": "code",
   "execution_count": 122,
   "metadata": {},
   "outputs": [],
   "source": [
    "INTERVAL = .95"
   ]
  },
  {
   "cell_type": "markdown",
   "metadata": {},
   "source": [
    "<div class=\"alert alert-block alert-info\">\n",
    "\n",
    "<b>Совет: </b> В названиях константных переменных лучше использовать только БОЛЬШИЕ буквы. Это соглашение между программистами: https://pythonworld.ru/osnovy/pep-8-rukovodstvo-po-napisaniyu-koda-na-python.html#id29 .\n",
    "</div>\n",
    "\n",
    "<div class=\"alert alert-block alert-success\">\n",
    "<b>Успех:</b> Точка безубыточности найдена верно, сравнение проведено!\n",
    "</div>"
   ]
  },
  {
   "cell_type": "markdown",
   "metadata": {},
   "source": [
    "## Расчёт прибыли и рисков"
   ]
  },
  {
   "cell_type": "markdown",
   "metadata": {},
   "source": [
    "Последовательность выполнения расчёта:\n",
    " 1) Возьмем 500 точек из всей выборки\n",
    " 2) Лучшей моделью предскажем объёмы нефти в них\n",
    " 3) Посчитаем прибыль 200 самых объёмных предсказанных точек\n",
    " 4) Повторим bootstrap_samples раз, запишем все результаты в один Series"
   ]
  },
  {
   "cell_type": "markdown",
   "metadata": {},
   "source": [
    "Напишем функцию для расчета прибыли profit"
   ]
  },
  {
   "cell_type": "code",
   "execution_count": 127,
   "metadata": {},
   "outputs": [],
   "source": [
    "def profit(target, predictions, count):\n",
    "    chosen = predictions.sort_values(\"product\", ascending=False)\n",
    "    product = target.loc[chosen.index][:count].sum()\n",
    "    return product * PROFIT_PER_BARREL - BUDGET_PER_WELL"
   ]
  },
  {
   "cell_type": "markdown",
   "metadata": {},
   "source": [
    "Для генерации одинаковой случайной последовательности чисел используем метод RandomState"
   ]
  },
  {
   "cell_type": "code",
   "execution_count": 124,
   "metadata": {},
   "outputs": [],
   "source": [
    "rand_st = np.random.RandomState(32123)"
   ]
  },
  {
   "cell_type": "markdown",
   "metadata": {},
   "source": [
    "### Расчёт первого региона"
   ]
  },
  {
   "cell_type": "markdown",
   "metadata": {},
   "source": [
    "<div class=\"alert alert-block alert-danger\">\n",
    "<b>Ошибка:</b> В этом шаге, как и во всем проекте, можно использовать только линейную модель. Это требование заказчика.\n",
    "    \n",
    "В шаге с обучением моделей можно использовать случайный лес в исследовательских целях.\n",
    "</div>\n",
    "\n",
    "<div class=\"alert alert-block alert-warning\">\n",
    "<b>Исправлено:</b> Удалил исследования на моделях случайного леса.\n",
    "</div>"
   ]
  },
  {
   "cell_type": "markdown",
   "metadata": {},
   "source": [
    "<div class=\"alert alert-block alert-success\">\n",
    "<b>Успех (ревью 2):</b> ОК.\n",
    "</div>"
   ]
  },
  {
   "cell_type": "markdown",
   "metadata": {},
   "source": [
    "<div class=\"alert alert-block alert-info\">\n",
    "\n",
    "<b>Совет: </b> Лучше заменить `.sample(frac=...)` на `.sample(n=...)`\n",
    "</div>\n",
    "\n",
    "<div class=\"alert alert-block alert-warning\">\n",
    "<b>Исправлено:</b> Заменил, как-то не догадался сам...\n",
    "</div>"
   ]
  },
  {
   "cell_type": "markdown",
   "metadata": {},
   "source": []
  },
  {
   "cell_type": "markdown",
   "metadata": {},
   "source": [
    "<div class=\"alert alert-block alert-danger\">\n",
    "<b>Ошибка:</b> Для подсчета доверительного интервала стоит использовать метод квантилей, так как мы реализуем технику бутстрап.\n",
    "</div>\n",
    "\n",
    "<div class=\"alert alert-block alert-warning\">\n",
    "<b>Исправлено:</b> Реализовал метод квантилей для подсчета доверительного интервала.\n",
    "</div>\n",
    "\n",
    "<div class=\"alert alert-block alert-info\">\n",
    "\n",
    "<b>Совет: </b> Риск можно было найти чуть проще: `(values < 0).mean()`, если объект типа pandas Series или numpy array.\n",
    "</div>\n",
    "    \n",
    "<div class=\"alert alert-block alert-warning\">\n",
    "<b>Исправлено:</b> Поправил, так действительно нагляднее.\n",
    "</div>"
   ]
  },
  {
   "cell_type": "markdown",
   "metadata": {},
   "source": [
    "<div class=\"alert alert-block alert-success\">\n",
    "<b>Успех (ревью 2):</b> Отлично!\n",
    "</div>"
   ]
  },
  {
   "cell_type": "markdown",
   "metadata": {},
   "source": [
    "#### Модель LinearRegression"
   ]
  },
  {
   "cell_type": "code",
   "execution_count": 128,
   "metadata": {},
   "outputs": [
    {
     "name": "stderr",
     "output_type": "stream",
     "text": [
      "100%|██████████| 1000/1000 [00:07<00:00, 142.17it/s]\n"
     ]
    }
   ],
   "source": [
    "profits0 = []\n",
    "features, target, model = pd.concat([features_valid_0, features_train_0]), target_0, linear_model0\n",
    "for i in tqdm(range(BOOTSTRAP_SAMPLES)):\n",
    "    subsample = features.sample(n=POINTS, replace=True, random_state=rand_st)\n",
    "    # subsample = features.sample(frac=(points / len(features)), replace=True, random_state=rand_st)\n",
    "    predictions = pd.DataFrame(\n",
    "        model.predict(subsample),\n",
    "        columns=[\"product\"],\n",
    "        index=subsample.index)\n",
    "    profits0.append(profit(\n",
    "        target,\n",
    "        predictions,\n",
    "        COUNT)\n",
    "    )"
   ]
  },
  {
   "cell_type": "code",
   "execution_count": 131,
   "metadata": {},
   "outputs": [
    {
     "data": {
      "text/plain": [
       "'Выборок с отрицательной прибылью: 52'"
      ]
     },
     "metadata": {},
     "output_type": "display_data"
    },
    {
     "data": {
      "text/plain": [
       "Text(0, 0.5, 'Количество выборок скважин')"
      ]
     },
     "execution_count": 131,
     "metadata": {},
     "output_type": "execute_result"
    },
    {
     "data": {
      "image/png": "[encoded data removed]",
      "text/plain": [
       "<Figure size 864x432 with 1 Axes>"
      ]
     },
     "metadata": {
      "needs_background": "light"
     },
     "output_type": "display_data"
    }
   ],
   "source": [
    "result = pd.Series(profits0)\n",
    "display(f\"Выборок с отрицательной прибылью: {(result < 0).sum()}\")\n",
    "# result.hist()\n",
    "\n",
    "fig = plt.figure(figsize = (12, 6))\n",
    "ax = fig.gca()\n",
    "result_hist0 = result.hist(\n",
    "    bins=16,\n",
    ")\n",
    "pl.suptitle(\"Распределение ожидаемого дохода от первого региона\")\n",
    "result_hist0.set_xlabel(\"Доход в миллиардах рублей\")\n",
    "result_hist0.set_ylabel(\"Количество выборок скважин\")"
   ]
  },
  {
   "cell_type": "markdown",
   "metadata": {},
   "source": [
    "<div class=\"alert alert-block alert-warning\">\n",
    "<b>Исправлено:</b> Изменил масштаб графика, добавил подписи осей и название.\n",
    "</div>"
   ]
  },
  {
   "cell_type": "markdown",
   "metadata": {},
   "source": [
    "Найдём среднюю прибыль, 95%-й доверительный интервал и риск убытков. Убыток — это отрицательная прибыль."
   ]
  },
  {
   "cell_type": "code",
   "execution_count": 134,
   "metadata": {},
   "outputs": [
    {
     "data": {
      "text/plain": [
       "'Средняя прибыль:  415787404.3  рублей'"
      ]
     },
     "metadata": {},
     "output_type": "display_data"
    }
   ],
   "source": [
    "linear0_mean_profit = result.mean()\n",
    "display(f\"Средняя прибыль: {linear0_mean_profit: .10}  рублей\")"
   ]
  },
  {
   "cell_type": "code",
   "execution_count": 135,
   "metadata": {},
   "outputs": [
    {
     "name": "stdout",
     "output_type": "stream",
     "text": [
      "95%-ый доверительный интервал: от -86246676.41р. до  920171109.8р.\n"
     ]
    }
   ],
   "source": [
    "# linear0_min_edge, linear0_max_edge = st.t.interval(\n",
    "#     interval, len(result)-1, linear0_mean_profit, result.sem()\n",
    "# )\n",
    "linear0_min_edge, linear0_max_edge = result.quantile(.025), result.quantile(.975)\n",
    "print(f\"95%-ый доверительный интервал: от {linear0_min_edge: .10}р. до {linear0_max_edge: .10}р.\")"
   ]
  },
  {
   "cell_type": "code",
   "execution_count": 136,
   "metadata": {},
   "outputs": [
    {
     "data": {
      "text/plain": [
       "'Процент отрицательной прибыли:  5.2%'"
      ]
     },
     "execution_count": 136,
     "metadata": {},
     "output_type": "execute_result"
    }
   ],
   "source": [
    "# display(f\"Процент отрицательной прибыли: {len(result[result < 0]) / len(result): .1%}\")\n",
    "f\"Процент отрицательной прибыли: {(result < 0).mean(): .1%}\""
   ]
  },
  {
   "cell_type": "markdown",
   "metadata": {},
   "source": [
    "### Расчёт второго региона"
   ]
  },
  {
   "cell_type": "markdown",
   "metadata": {},
   "source": [
    "#### Модель LinearRegression"
   ]
  },
  {
   "cell_type": "code",
   "execution_count": 147,
   "metadata": {},
   "outputs": [
    {
     "name": "stderr",
     "output_type": "stream",
     "text": [
      "100%|██████████| 1000/1000 [00:06<00:00, 143.56it/s]\n"
     ]
    }
   ],
   "source": [
    "profits1 = []\n",
    "features, target, model = pd.concat([features_valid_1, features_train_1]), target_1, linear_model1\n",
    "for i in tqdm(range(BOOTSTRAP_SAMPLES)):\n",
    "    subsample = features.sample(n=POINTS, replace=True, random_state=rand_st)\n",
    "    # subsample = features.sample(frac=(points / len(features)), replace=False, random_state=rand_st)\n",
    "    predictions = pd.DataFrame(\n",
    "        model.predict(subsample),\n",
    "        columns=[\"product\"],\n",
    "        index=subsample.index)\n",
    "    profits1.append(profit(\n",
    "        target,\n",
    "        predictions,\n",
    "        COUNT)\n",
    "    )"
   ]
  },
  {
   "cell_type": "code",
   "execution_count": 148,
   "metadata": {},
   "outputs": [
    {
     "data": {
      "text/plain": [
       "'Выборок с отрицательной прибылью: 16'"
      ]
     },
     "metadata": {},
     "output_type": "display_data"
    },
    {
     "data": {
      "text/plain": [
       "Text(0, 0.5, 'Количество выборок скважин')"
      ]
     },
     "execution_count": 148,
     "metadata": {},
     "output_type": "execute_result"
    },
    {
     "data": {
      "image/png": "[encoded data removed]",
      "text/plain": [
       "<Figure size 864x432 with 1 Axes>"
      ]
     },
     "metadata": {
      "needs_background": "light"
     },
     "output_type": "display_data"
    }
   ],
   "source": [
    "result = pd.Series(profits1)\n",
    "display(f\"Выборок с отрицательной прибылью: {(result < 0).sum()}\")\n",
    "# result.hist()\n",
    "\n",
    "fig = plt.figure(figsize = (12, 6))\n",
    "ax = fig.gca()\n",
    "result_hist1 = result.hist(\n",
    "    bins=16,\n",
    ")\n",
    "pl.suptitle(\"Распределение ожидаемого дохода от второго региона\")\n",
    "result_hist1.set_xlabel(\"Доход в миллиардах рублей\")\n",
    "result_hist1.set_ylabel(\"Количество выборок скважин\")"
   ]
  },
  {
   "cell_type": "markdown",
   "metadata": {},
   "source": [
    "<div class=\"alert alert-block alert-warning\">\n",
    "<b>Исправлено:</b> Изменил масштаб графика, добавил подписи осей и название.\n",
    "</div>"
   ]
  },
  {
   "cell_type": "markdown",
   "metadata": {},
   "source": [
    "Найдём среднюю прибыль, 95%-й доверительный интервал и риск убытков. Убыток — это отрицательная прибыль."
   ]
  },
  {
   "cell_type": "code",
   "execution_count": 149,
   "metadata": {},
   "outputs": [
    {
     "data": {
      "text/plain": [
       "'Средняя прибыль:  454443335.7  рублей'"
      ]
     },
     "metadata": {},
     "output_type": "display_data"
    }
   ],
   "source": [
    "linear1_mean_profit = result.mean()\n",
    "display(f\"Средняя прибыль: {linear1_mean_profit: .10}  рублей\")"
   ]
  },
  {
   "cell_type": "code",
   "execution_count": 150,
   "metadata": {},
   "outputs": [
    {
     "name": "stdout",
     "output_type": "stream",
     "text": [
      "95%-ый доверительный интервал: от  30887787.27р. до  854404248.2р.\n"
     ]
    }
   ],
   "source": [
    "# linear1_min_edge, linear1_max_edge = st.t.interval(\n",
    "#     interval, len(result)-1, linear1_mean_profit, result.sem()\n",
    "# )\n",
    "linear1_min_edge, linear1_max_edge = result.quantile(.025), result.quantile(.975)\n",
    "print(f\"95%-ый доверительный интервал: от {linear1_min_edge: .10}р. до {linear1_max_edge: .10}р.\")"
   ]
  },
  {
   "cell_type": "code",
   "execution_count": 151,
   "metadata": {},
   "outputs": [
    {
     "data": {
      "text/plain": [
       "'Процент отрицательной прибыли:  1.6%'"
      ]
     },
     "execution_count": 151,
     "metadata": {},
     "output_type": "execute_result"
    }
   ],
   "source": [
    "# display(f\"Процент отрицательной прибыли: {len(result[result < 0]) / len(result): .1%}\")\n",
    "f\"Процент отрицательной прибыли: {(result < 0).mean(): .1%}\""
   ]
  },
  {
   "cell_type": "markdown",
   "metadata": {},
   "source": [
    "### Расчёт третьего региона"
   ]
  },
  {
   "cell_type": "markdown",
   "metadata": {},
   "source": [
    "#### Модель LinearRegression"
   ]
  },
  {
   "cell_type": "code",
   "execution_count": 152,
   "metadata": {},
   "outputs": [
    {
     "name": "stderr",
     "output_type": "stream",
     "text": [
      "100%|██████████| 1000/1000 [00:08<00:00, 114.71it/s]\n"
     ]
    }
   ],
   "source": [
    "profits2 = []\n",
    "features, target, model = pd.concat([features_valid_2, features_train_2]), target_2, linear_model2\n",
    "for i in tqdm(range(BOOTSTRAP_SAMPLES)):\n",
    "    subsample = features.sample(n=POINTS, replace=True, random_state=rand_st)\n",
    "    # subsample = features.sample(frac=(points / len(features)), replace=False, random_state=rand_st)\n",
    "    predictions = pd.DataFrame(\n",
    "        model.predict(subsample),\n",
    "        columns=[\"product\"],\n",
    "        index=subsample.index)\n",
    "    profits2.append(profit(\n",
    "        target,\n",
    "        predictions,\n",
    "        COUNT)\n",
    "    )"
   ]
  },
  {
   "cell_type": "code",
   "execution_count": 153,
   "metadata": {},
   "outputs": [
    {
     "data": {
      "text/plain": [
       "'Выборок с отрицательной прибылью: 77'"
      ]
     },
     "metadata": {},
     "output_type": "display_data"
    },
    {
     "data": {
      "text/plain": [
       "Text(0, 0.5, 'Количество выборок скважин')"
      ]
     },
     "execution_count": 153,
     "metadata": {},
     "output_type": "execute_result"
    },
    {
     "data": {
      "image/png": "[encoded data removed]",
      "text/plain": [
       "<Figure size 864x432 with 1 Axes>"
      ]
     },
     "metadata": {
      "needs_background": "light"
     },
     "output_type": "display_data"
    }
   ],
   "source": [
    "result = pd.Series(profits2)\n",
    "display(f\"Выборок с отрицательной прибылью: {(result < 0).sum()}\")\n",
    "# result.hist()\n",
    "\n",
    "fig = plt.figure(figsize = (12, 6))\n",
    "ax = fig.gca()\n",
    "result_hist1 = result.hist(\n",
    "    bins=16,\n",
    ")\n",
    "pl.suptitle(\"Распределение ожидаемого дохода от третьего региона\")\n",
    "result_hist1.set_xlabel(\"Доход в миллиардах рублей\")\n",
    "result_hist1.set_ylabel(\"Количество выборок скважин\")"
   ]
  },
  {
   "cell_type": "markdown",
   "metadata": {},
   "source": [
    "<div class=\"alert alert-block alert-warning\">\n",
    "<b>Исправлено:</b> Изменил масштаб графика, добавил подписи осей и название.\n",
    "</div>"
   ]
  },
  {
   "cell_type": "markdown",
   "metadata": {},
   "source": [
    "Найдём среднюю прибыль, 95%-й доверительный интервал и риск убытков. Убыток — это отрицательная прибыль."
   ]
  },
  {
   "cell_type": "code",
   "execution_count": 158,
   "metadata": {},
   "outputs": [
    {
     "data": {
      "text/plain": [
       "'Средняя прибыль:  375511015.1  рублей'"
      ]
     },
     "metadata": {},
     "output_type": "display_data"
    }
   ],
   "source": [
    "linear2_mean_profit = result.mean()\n",
    "display(f\"Средняя прибыль: {linear2_mean_profit: .10}  рублей\")"
   ]
  },
  {
   "cell_type": "code",
   "execution_count": 159,
   "metadata": {},
   "outputs": [
    {
     "name": "stdout",
     "output_type": "stream",
     "text": [
      "95%-ый доверительный интервал: от -157393963.7р. до  887796804.1р.\n"
     ]
    }
   ],
   "source": [
    "# linear2_min_edge, linear2_max_edge = st.t.interval(\n",
    "#     interval, len(result)-1, linear2_mean_profit, result.sem()\n",
    "# )\n",
    "linear2_min_edge, linear2_max_edge = result.quantile(.025), result.quantile(.975)\n",
    "print(f\"95%-ый доверительный интервал: от {linear2_min_edge: .10}р. до {linear2_max_edge: .10}р.\")"
   ]
  },
  {
   "cell_type": "code",
   "execution_count": 160,
   "metadata": {},
   "outputs": [
    {
     "data": {
      "text/plain": [
       "'Процент отрицательной прибыли:  7.7%'"
      ]
     },
     "execution_count": 160,
     "metadata": {},
     "output_type": "execute_result"
    }
   ],
   "source": [
    "# display(f\"Процент отрицательной прибыли: {len(result[result < 0]) / len(result): .1%}\")\n",
    "f\"Процент отрицательной прибыли: {(result < 0).mean(): .1%}\""
   ]
  },
  {
   "cell_type": "markdown",
   "metadata": {},
   "source": [
    "Вывод: Судя по результатам оценки модели линейной регрессии - наиболее прибыльные регионы это 2-й (454.5 млн. р.) и 1-й (415.8 млн. р.).\n",
    "Так как по условию требуется отсеить те регионы, в которых риск убытков выше 5% - остается только 2-й регион.\n",
    "Во 2-м регионе вероятность убытков всего 1.8%, а средний ожидаемый объем прибыли превышает остальные регионы.\n",
    "Выбор падает на второй регион."
   ]
  },
  {
   "cell_type": "markdown",
   "metadata": {},
   "source": [
    "### Выводы"
   ]
  },
  {
   "cell_type": "markdown",
   "metadata": {},
   "source": [
    "Для добывающей компании была обучена модель для выбора локации бурения скважины.\n",
    "Для этого были исследованы 3 различных региона добычи, для каждого была обучена отдельная модель.\n",
    "Перед исследованием была проведена работа над входными данными - разделение на выборки и последующая нормализация.\n",
    "Далее были построены модели для предсказания объёма запасов в новых скважинах и на этих предсказаниях отобраны скважины с самыми высокими оценками значений. Затем уже был определён регион с максимальной суммарной прибылью отобранных скважин.\n",
    "\n",
    "По предсказаниям наилучших моделей прибыль регионов такова:\n",
    "1) 1-й регион:  415.8 млн. р. средней прибыли в интервале от -84 млн. р. до 920 млн. р. Процент отрицательной прибыли: 5.2%\n",
    "2) 2-й регион:  433.6 млн. р. средней прибыли в интервале от 31 млн. р. до 854 млн. р. Процент отрицательной прибыли: 1.8%\n",
    "3) 3-й регион:  375.9 млн. р. средней прибыли в интервале от -157 млн. р. до 888 млн. р. Процент отрицательной прибыли: 7.7%\n",
    "\n",
    "В первом и третьем регионах вероятность убытков выше 5%, что по условиям заказчика недопустимо, поэтому данные регионы отпадают. По итогам исследования был выбран второй регион, как регион с самым высоким показателем средней ожидаемой прибыли и с самой низкой вероятностью убытков."
   ]
  },
  {
   "cell_type": "markdown",
   "metadata": {},
   "source": [
    "<div class=\"alert alert-block alert-warning\">\n",
    "<b>Исправлено:</b> Оба вывода переосмыслены в связи с правками.\n",
    "</div>"
   ]
  },
  {
   "cell_type": "markdown",
   "metadata": {},
   "source": [
    "<div class=\"alert alert-block alert-success\">\n",
    "<b>Успех (ревью 2):</b> Приятно видеть вывод в конце проекта! С выбором региона согласен.\n",
    "</div>"
   ]
  },
  {
   "cell_type": "markdown",
   "metadata": {},
   "source": [
    "## Чек-лист готовности проекта"
   ]
  },
  {
   "cell_type": "markdown",
   "metadata": {},
   "source": [
    "Поставьте 'x' в выполненных пунктах. Далее нажмите Shift+Enter."
   ]
  },
  {
   "cell_type": "markdown",
   "metadata": {},
   "source": [
    "- [x]  Jupyter Notebook открыт\n",
    "- [ ]  Весь код выполняется без ошибок\n",
    "- [ ]  Ячейки с кодом расположены в порядке исполнения\n",
    "- [ ]  Выполнен шаг 1: данные подготовлены\n",
    "- [ ]  Выполнен шаг 2: модели обучены и проверены\n",
    "    - [ ]  Данные корректно разбиты на обучающую и валидационную выборки\n",
    "    - [ ]  Модели обучены, предсказания сделаны\n",
    "    - [ ]  Предсказания и правильные ответы на валидационной выборке сохранены\n",
    "    - [ ]  На экране напечатаны результаты\n",
    "    - [ ]  Сделаны выводы\n",
    "- [ ]  Выполнен шаг 3: проведена подготовка к расчёту прибыли\n",
    "    - [ ]  Для всех ключевых значений созданы константы Python\n",
    "    - [ ]  Посчитано минимальное среднее количество продукта в месторождениях региона, достаточное для разработки\n",
    "    - [ ]  По предыдущему пункту сделаны выводы\n",
    "    - [ ]  Написана функция расчёта прибыли\n",
    "- [ ]  Выполнен шаг 4: посчитаны риски и прибыль\n",
    "    - [ ]  Проведена процедура *Bootstrap*\n",
    "    - [ ]  Все параметры бутстрепа соответствуют условию\n",
    "    - [ ]  Найдены все нужные величины\n",
    "    - [ ]  Предложен регион для разработки месторождения\n",
    "    - [ ]  Выбор региона обоснован"
   ]
  },
  {
   "cell_type": "code",
   "execution_count": 80,
   "metadata": {},
   "outputs": [],
   "source": []
  }
 ],
 "metadata": {
  "ExecuteTimeLog": [
   {
    "duration": 45,
    "start_time": "2023-04-25T07:19:54.693Z"
   },
   {
    "duration": 1064,
    "start_time": "2023-04-25T07:20:00.092Z"
   },
   {
    "duration": 3,
    "start_time": "2023-04-25T07:20:01.158Z"
   },
   {
    "duration": 1739,
    "start_time": "2023-04-25T07:20:01.162Z"
   },
   {
    "duration": 3,
    "start_time": "2023-04-25T07:20:02.903Z"
   },
   {
    "duration": 110,
    "start_time": "2023-04-25T07:20:02.907Z"
   },
   {
    "duration": 8,
    "start_time": "2023-04-25T07:20:03.019Z"
   },
   {
    "duration": 603,
    "start_time": "2023-04-25T07:20:06.967Z"
   },
   {
    "duration": 152,
    "start_time": "2023-04-25T07:20:24.788Z"
   },
   {
    "duration": 182,
    "start_time": "2023-04-25T07:21:53.442Z"
   },
   {
    "duration": 294,
    "start_time": "2023-04-25T07:25:32.924Z"
   },
   {
    "duration": 192,
    "start_time": "2023-04-25T07:25:46.935Z"
   },
   {
    "duration": 272,
    "start_time": "2023-04-25T07:26:54.563Z"
   },
   {
    "duration": 232,
    "start_time": "2023-04-25T07:27:11.239Z"
   },
   {
    "duration": 194,
    "start_time": "2023-04-25T07:27:18.750Z"
   },
   {
    "duration": 204,
    "start_time": "2023-04-25T07:28:06.781Z"
   },
   {
    "duration": 76,
    "start_time": "2023-04-25T07:32:17.795Z"
   },
   {
    "duration": 171,
    "start_time": "2023-04-25T07:32:21.345Z"
   },
   {
    "duration": 189,
    "start_time": "2023-04-25T07:32:31.197Z"
   },
   {
    "duration": 192,
    "start_time": "2023-04-25T07:32:39.642Z"
   },
   {
    "duration": 11,
    "start_time": "2023-04-25T07:33:21.278Z"
   },
   {
    "duration": 4,
    "start_time": "2023-04-25T07:33:27.704Z"
   },
   {
    "duration": 19,
    "start_time": "2023-04-25T07:33:27.710Z"
   },
   {
    "duration": 426,
    "start_time": "2023-04-25T07:33:27.731Z"
   },
   {
    "duration": 4,
    "start_time": "2023-04-25T07:33:28.160Z"
   },
   {
    "duration": 123,
    "start_time": "2023-04-25T07:33:28.166Z"
   },
   {
    "duration": 9,
    "start_time": "2023-04-25T07:33:28.291Z"
   },
   {
    "duration": 259,
    "start_time": "2023-04-25T07:33:28.302Z"
   },
   {
    "duration": 5,
    "start_time": "2023-04-25T07:33:28.563Z"
   },
   {
    "duration": 85,
    "start_time": "2023-04-25T07:33:28.570Z"
   },
   {
    "duration": 98,
    "start_time": "2023-04-25T07:33:28.658Z"
   },
   {
    "duration": 8,
    "start_time": "2023-04-25T07:33:28.758Z"
   },
   {
    "duration": 272,
    "start_time": "2023-04-25T07:33:28.768Z"
   },
   {
    "duration": 4,
    "start_time": "2023-04-25T07:33:29.042Z"
   },
   {
    "duration": 68,
    "start_time": "2023-04-25T07:33:29.056Z"
   },
   {
    "duration": 109,
    "start_time": "2023-04-25T07:33:29.125Z"
   },
   {
    "duration": 21,
    "start_time": "2023-04-25T07:33:29.236Z"
   },
   {
    "duration": 262,
    "start_time": "2023-04-25T07:33:29.259Z"
   },
   {
    "duration": 502,
    "start_time": "2023-04-25T07:36:05.459Z"
   },
   {
    "duration": 242,
    "start_time": "2023-04-25T07:36:15.835Z"
   },
   {
    "duration": 95,
    "start_time": "2023-04-25T07:36:24.240Z"
   },
   {
    "duration": 211,
    "start_time": "2023-04-25T07:36:30.240Z"
   },
   {
    "duration": 213,
    "start_time": "2023-04-25T07:36:37.768Z"
   },
   {
    "duration": 209,
    "start_time": "2023-04-25T07:36:49.537Z"
   },
   {
    "duration": 270,
    "start_time": "2023-04-25T07:38:03.809Z"
   },
   {
    "duration": 263,
    "start_time": "2023-04-25T07:38:08.055Z"
   },
   {
    "duration": 193,
    "start_time": "2023-04-25T07:38:18.285Z"
   },
   {
    "duration": 259,
    "start_time": "2023-04-25T07:38:27.141Z"
   },
   {
    "duration": 250,
    "start_time": "2023-04-25T07:38:32.565Z"
   },
   {
    "duration": 307,
    "start_time": "2023-04-25T07:38:38.246Z"
   },
   {
    "duration": 84,
    "start_time": "2023-04-25T07:39:48.823Z"
   },
   {
    "duration": 38,
    "start_time": "2023-04-25T07:39:54.503Z"
   },
   {
    "duration": 11,
    "start_time": "2023-04-25T07:40:22.492Z"
   },
   {
    "duration": 4,
    "start_time": "2023-04-25T07:41:24.774Z"
   },
   {
    "duration": 319,
    "start_time": "2023-04-25T07:41:30.891Z"
   },
   {
    "duration": 388,
    "start_time": "2023-04-25T07:41:39.133Z"
   },
   {
    "duration": 236,
    "start_time": "2023-04-25T07:41:44.648Z"
   },
   {
    "duration": 210,
    "start_time": "2023-04-25T07:41:50.979Z"
   },
   {
    "duration": 210,
    "start_time": "2023-04-25T07:42:00.048Z"
   },
   {
    "duration": 211,
    "start_time": "2023-04-25T07:42:09.283Z"
   },
   {
    "duration": 256,
    "start_time": "2023-04-25T07:42:15.839Z"
   },
   {
    "duration": 139,
    "start_time": "2023-04-25T07:44:35.481Z"
   },
   {
    "duration": 186,
    "start_time": "2023-04-25T07:45:55.439Z"
   },
   {
    "duration": 244,
    "start_time": "2023-04-25T07:46:02.106Z"
   },
   {
    "duration": 5,
    "start_time": "2023-04-25T07:46:28.238Z"
   },
   {
    "duration": 220,
    "start_time": "2023-04-25T07:46:34.665Z"
   },
   {
    "duration": 211,
    "start_time": "2023-04-25T07:47:02.375Z"
   },
   {
    "duration": 276,
    "start_time": "2023-04-25T07:47:29.356Z"
   },
   {
    "duration": 4,
    "start_time": "2023-04-25T07:57:23.927Z"
   },
   {
    "duration": 10,
    "start_time": "2023-04-25T07:57:23.934Z"
   },
   {
    "duration": 453,
    "start_time": "2023-04-25T07:57:23.946Z"
   },
   {
    "duration": 3,
    "start_time": "2023-04-25T07:57:24.401Z"
   },
   {
    "duration": 131,
    "start_time": "2023-04-25T07:57:24.407Z"
   },
   {
    "duration": 19,
    "start_time": "2023-04-25T07:57:24.539Z"
   },
   {
    "duration": 277,
    "start_time": "2023-04-25T07:57:24.564Z"
   },
   {
    "duration": 5,
    "start_time": "2023-04-25T07:57:24.842Z"
   },
   {
    "duration": 109,
    "start_time": "2023-04-25T07:57:24.848Z"
   },
   {
    "duration": 111,
    "start_time": "2023-04-25T07:57:24.960Z"
   },
   {
    "duration": 10,
    "start_time": "2023-04-25T07:57:25.073Z"
   },
   {
    "duration": 289,
    "start_time": "2023-04-25T07:57:25.085Z"
   },
   {
    "duration": 5,
    "start_time": "2023-04-25T07:57:25.376Z"
   },
   {
    "duration": 97,
    "start_time": "2023-04-25T07:57:25.382Z"
   },
   {
    "duration": 110,
    "start_time": "2023-04-25T07:57:25.482Z"
   },
   {
    "duration": 12,
    "start_time": "2023-04-25T07:57:25.594Z"
   },
   {
    "duration": 300,
    "start_time": "2023-04-25T07:57:25.608Z"
   },
   {
    "duration": 5,
    "start_time": "2023-04-25T07:57:25.910Z"
   },
   {
    "duration": 82,
    "start_time": "2023-04-25T07:57:25.916Z"
   },
   {
    "duration": 9,
    "start_time": "2023-04-25T07:57:25.999Z"
   },
   {
    "duration": 14,
    "start_time": "2023-04-25T07:57:26.010Z"
   },
   {
    "duration": 40,
    "start_time": "2023-04-25T07:57:26.025Z"
   },
   {
    "duration": 18,
    "start_time": "2023-04-25T07:57:26.067Z"
   },
   {
    "duration": 175,
    "start_time": "2023-04-25T07:57:26.089Z"
   },
   {
    "duration": 5,
    "start_time": "2023-04-25T07:57:26.275Z"
   },
   {
    "duration": 1530086,
    "start_time": "2023-04-25T07:57:26.284Z"
   },
   {
    "duration": 4,
    "start_time": "2023-04-25T08:22:56.372Z"
   },
   {
    "duration": 14,
    "start_time": "2023-04-25T08:22:56.380Z"
   },
   {
    "duration": 14,
    "start_time": "2023-04-25T08:22:56.396Z"
   },
   {
    "duration": 19,
    "start_time": "2023-04-25T08:22:56.412Z"
   },
   {
    "duration": 35,
    "start_time": "2023-04-25T08:22:56.433Z"
   },
   {
    "duration": 4,
    "start_time": "2023-04-25T08:22:56.471Z"
   },
   {
    "duration": 1687270,
    "start_time": "2023-04-25T08:22:56.477Z"
   },
   {
    "duration": 34,
    "start_time": "2023-04-25T08:51:03.750Z"
   },
   {
    "duration": 14,
    "start_time": "2023-04-25T08:51:03.797Z"
   },
   {
    "duration": 4,
    "start_time": "2023-04-25T08:51:03.814Z"
   },
   {
    "duration": 33,
    "start_time": "2023-04-25T08:51:03.819Z"
   },
   {
    "duration": 113,
    "start_time": "2023-04-25T08:51:03.854Z"
   },
   {
    "duration": 9,
    "start_time": "2023-04-25T08:51:03.970Z"
   },
   {
    "duration": 1753720,
    "start_time": "2023-04-25T08:51:03.985Z"
   },
   {
    "duration": 4,
    "start_time": "2023-04-25T09:20:17.707Z"
   },
   {
    "duration": 10,
    "start_time": "2023-04-25T09:20:17.713Z"
   },
   {
    "duration": 6,
    "start_time": "2023-04-25T09:20:17.725Z"
   },
   {
    "duration": 25,
    "start_time": "2023-04-25T09:20:17.733Z"
   },
   {
    "duration": 12,
    "start_time": "2023-04-25T09:20:17.760Z"
   },
   {
    "duration": 8,
    "start_time": "2023-04-25T09:20:17.778Z"
   },
   {
    "duration": 3,
    "start_time": "2023-04-25T09:20:17.795Z"
   },
   {
    "duration": 4,
    "start_time": "2023-04-25T09:20:17.800Z"
   },
   {
    "duration": 0,
    "start_time": "2023-04-25T09:20:17.925Z"
   },
   {
    "duration": 4,
    "start_time": "2023-04-25T09:22:16.313Z"
   },
   {
    "duration": 3,
    "start_time": "2023-04-25T09:22:17.619Z"
   },
   {
    "duration": 3,
    "start_time": "2023-04-25T09:22:19.334Z"
   },
   {
    "duration": 3,
    "start_time": "2023-04-25T09:22:20.707Z"
   },
   {
    "duration": 3,
    "start_time": "2023-04-25T09:22:22.405Z"
   },
   {
    "duration": 3,
    "start_time": "2023-04-25T09:22:24.802Z"
   },
   {
    "duration": 3,
    "start_time": "2023-04-25T09:22:26.334Z"
   },
   {
    "duration": 7500,
    "start_time": "2023-04-25T09:22:55.957Z"
   },
   {
    "duration": 270,
    "start_time": "2023-04-25T09:23:08.702Z"
   },
   {
    "duration": 3,
    "start_time": "2023-04-25T09:24:31.899Z"
   },
   {
    "duration": 7067,
    "start_time": "2023-04-25T09:24:34.402Z"
   },
   {
    "duration": 247,
    "start_time": "2023-04-25T09:25:16.675Z"
   },
   {
    "duration": 224,
    "start_time": "2023-04-25T09:25:26.230Z"
   },
   {
    "duration": 203,
    "start_time": "2023-04-25T09:25:37.474Z"
   },
   {
    "duration": 90,
    "start_time": "2023-04-25T09:25:45.182Z"
   },
   {
    "duration": 92,
    "start_time": "2023-04-25T09:25:49.003Z"
   },
   {
    "duration": 5,
    "start_time": "2023-04-25T09:25:58.813Z"
   },
   {
    "duration": 7,
    "start_time": "2023-04-25T09:26:01.294Z"
   },
   {
    "duration": 5,
    "start_time": "2023-04-25T09:26:41.456Z"
   },
   {
    "duration": 14,
    "start_time": "2023-04-25T09:27:53.188Z"
   },
   {
    "duration": 7584,
    "start_time": "2023-04-25T09:28:00.642Z"
   },
   {
    "duration": 280,
    "start_time": "2023-04-25T09:28:15.614Z"
   },
   {
    "duration": 283,
    "start_time": "2023-04-25T09:28:19.753Z"
   },
   {
    "duration": 96,
    "start_time": "2023-04-25T09:28:26.994Z"
   },
   {
    "duration": 6,
    "start_time": "2023-04-25T09:28:34.809Z"
   },
   {
    "duration": 7,
    "start_time": "2023-04-25T09:28:38.744Z"
   },
   {
    "duration": 8,
    "start_time": "2023-04-25T09:28:41.178Z"
   },
   {
    "duration": 7271,
    "start_time": "2023-04-25T09:29:12.832Z"
   },
   {
    "duration": 14,
    "start_time": "2023-04-25T09:29:22.356Z"
   },
   {
    "duration": 6990,
    "start_time": "2023-04-25T09:29:33.798Z"
   },
   {
    "duration": 261,
    "start_time": "2023-04-25T09:29:42.812Z"
   },
   {
    "duration": 6,
    "start_time": "2023-04-25T09:29:46.036Z"
   },
   {
    "duration": 8,
    "start_time": "2023-04-25T09:29:47.923Z"
   },
   {
    "duration": 7,
    "start_time": "2023-04-25T09:29:51.032Z"
   },
   {
    "duration": 8745,
    "start_time": "2023-04-25T09:29:55.747Z"
   },
   {
    "duration": 213,
    "start_time": "2023-04-25T09:30:18.139Z"
   },
   {
    "duration": 4,
    "start_time": "2023-04-25T09:30:27.488Z"
   },
   {
    "duration": 6,
    "start_time": "2023-04-25T09:30:30.088Z"
   },
   {
    "duration": 6,
    "start_time": "2023-04-25T09:30:32.361Z"
   },
   {
    "duration": 95,
    "start_time": "2023-04-25T09:33:37.534Z"
   },
   {
    "duration": 5,
    "start_time": "2023-04-25T09:33:47.875Z"
   },
   {
    "duration": 6,
    "start_time": "2023-04-25T09:33:49.631Z"
   },
   {
    "duration": 10,
    "start_time": "2023-04-25T09:33:51.457Z"
   }
  ],
  "kernelspec": {
   "display_name": "Python 3 (ipykernel)",
   "language": "python",
   "name": "python3"
  },
  "language_info": {
   "codemirror_mode": {
    "name": "ipython",
    "version": 3
   },
   "file_extension": ".py",
   "mimetype": "text/x-python",
   "name": "python",
   "nbconvert_exporter": "python",
   "pygments_lexer": "ipython3",
   "version": "3.9.5"
  },
  "toc": {
   "base_numbering": 1,
   "nav_menu": {},
   "number_sections": true,
   "sideBar": true,
   "skip_h1_title": true,
   "title_cell": "Table of Contents",
   "title_sidebar": "Contents",
   "toc_cell": false,
   "toc_position": {},
   "toc_section_display": true,
   "toc_window_display": false
  }
 },
 "nbformat": 4,
 "nbformat_minor": 2
}
